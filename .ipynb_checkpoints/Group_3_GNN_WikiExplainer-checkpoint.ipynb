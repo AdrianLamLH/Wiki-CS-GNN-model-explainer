{
 "cells": [
  {
   "cell_type": "markdown",
   "metadata": {
    "id": "CAjW4hbR57-S"
   },
   "source": [
    "## Project Outline\n",
    "##### Our dataset contains CS-related wikipedia articles with their content summarized into text-embeddings. These articles are already categorized into different topics of Computer Science (CS-Subtopics)\n",
    "\n",
    "### We first create a model to predict an article's correct CS-Subtopic, given the content text embedding as an input.\n",
    "\n",
    "### We use GNN explainer to get the most important articles (from all subtopics) and see their connections. The connections are how similar each article's content(text-embeddings) are to one another. We can color-code each node with their respective subtopic and see how the subtopics look in relation to the connections. I.e. are most nodes(articles) of the same color (subtopic) mostly connected? And are there some nodes that are connected to many other nodes with different colors(subtopics)?\n"
   ]
  },
  {
   "cell_type": "markdown",
   "metadata": {
    "id": "2Ml0Wu5HwF4-"
   },
   "source": [
    "## Install PyTorch"
   ]
  },
  {
   "cell_type": "code",
   "execution_count": 3,
   "metadata": {
    "colab": {
     "base_uri": "https://localhost:8080/"
    },
    "id": "m4fun1w-vyVn",
    "outputId": "d870caab-68fe-4d48-e52d-61652f8e1329"
   },
   "outputs": [
    {
     "ename": "ModuleNotFoundError",
     "evalue": "No module named 'torch'",
     "output_type": "error",
     "traceback": [
      "\u001b[0;31m---------------------------------------------------------------------------\u001b[0m",
      "\u001b[0;31mModuleNotFoundError\u001b[0m                       Traceback (most recent call last)",
      "Cell \u001b[0;32mIn [3], line 1\u001b[0m\n\u001b[0;32m----> 1\u001b[0m \u001b[38;5;28;01mimport\u001b[39;00m \u001b[38;5;21;01mtorch\u001b[39;00m\n\u001b[1;32m      2\u001b[0m torch\u001b[38;5;241m.\u001b[39mmanual_seed(\u001b[38;5;241m42\u001b[39m)\n\u001b[1;32m      3\u001b[0m \u001b[38;5;28;01mfrom\u001b[39;00m \u001b[38;5;21;01mIPython\u001b[39;00m\u001b[38;5;21;01m.\u001b[39;00m\u001b[38;5;21;01mdisplay\u001b[39;00m \u001b[38;5;28;01mimport\u001b[39;00m clear_output \n",
      "\u001b[0;31mModuleNotFoundError\u001b[0m: No module named 'torch'"
     ]
    }
   ],
   "source": [
    "import torch\n",
    "torch.manual_seed(42)\n",
    "from IPython.display import clear_output \n",
    "torch_version = torch.__version__\n",
    "print(\"Torch version: \", torch_version)\n",
    "pytorch_version = f\"torch-{torch.__version__}.html\"\n",
    "!pip install --no-index torch-scatter -f https://pytorch-geometric.com/whl/$pytorch_version\n",
    "!pip install --no-index torch-sparse -f https://pytorch-geometric.com/whl/$pytorch_version\n",
    "!pip install --no-index torch-cluster -f https://pytorch-geometric.com/whl/$pytorch_version\n",
    "!pip install --no-index torch-spline-conv -f https://pytorch-geometric.com/whl/$pytorch_version\n",
    "!pip install torch-geometric\n",
    "clear_output()\n",
    "print(\"Done.\")"
   ]
  },
  {
   "cell_type": "markdown",
   "metadata": {
    "id": "9aZYMGpEwaP3"
   },
   "source": [
    "## Import WikiCS Dataset"
   ]
  },
  {
   "cell_type": "code",
   "execution_count": 2,
   "metadata": {
    "colab": {
     "base_uri": "https://localhost:8080/"
    },
    "id": "RexCzozWwavT",
    "outputId": "aef034f4-801a-49b6-9f3f-47cae36a91bf"
   },
   "outputs": [
    {
     "ename": "ModuleNotFoundError",
     "evalue": "No module named 'torch_geometric'",
     "output_type": "error",
     "traceback": [
      "\u001b[0;31m---------------------------------------------------------------------------\u001b[0m",
      "\u001b[0;31mModuleNotFoundError\u001b[0m                       Traceback (most recent call last)",
      "Cell \u001b[0;32mIn [2], line 1\u001b[0m\n\u001b[0;32m----> 1\u001b[0m \u001b[38;5;28;01mfrom\u001b[39;00m \u001b[38;5;21;01mtorch_geometric\u001b[39;00m\u001b[38;5;21;01m.\u001b[39;00m\u001b[38;5;21;01mdatasets\u001b[39;00m \u001b[38;5;28;01mimport\u001b[39;00m WikiCS\n\u001b[1;32m      2\u001b[0m \u001b[38;5;66;03m# Dataset source: https://github.com/pmernyei/wiki-cs-dataset\u001b[39;00m\n\u001b[1;32m      3\u001b[0m graph \u001b[38;5;241m=\u001b[39m WikiCS(root\u001b[38;5;241m=\u001b[39m\u001b[38;5;124m\"\u001b[39m\u001b[38;5;124m.\u001b[39m\u001b[38;5;124m\"\u001b[39m)[\u001b[38;5;241m0\u001b[39m]\n",
      "\u001b[0;31mModuleNotFoundError\u001b[0m: No module named 'torch_geometric'"
     ]
    }
   ],
   "source": [
    "from torch_geometric.datasets import WikiCS\n",
    "# Dataset source: https://github.com/pmernyei/wiki-cs-dataset\n",
    "graph = WikiCS(root=\".\")[0]\n",
    "graph"
   ]
  },
  {
   "cell_type": "code",
   "execution_count": 5,
   "metadata": {
    "colab": {
     "base_uri": "https://localhost:8080/"
    },
    "id": "ThVOESzL3c_K",
    "outputId": "ead5700f-e2d6-42a6-e45f-6e2838a72ee9"
   },
   "outputs": [
    {
     "data": {
      "text/plain": [
       "tensor([[-0.0204,  0.0646,  0.0197,  ..., -0.0754, -0.1124,  0.1514],\n",
       "        [-0.0438, -0.0317, -0.0082,  ..., -0.0658,  0.0643, -0.0588],\n",
       "        [-0.1127,  0.0098,  0.1422,  ...,  0.1398, -0.0195,  0.0451],\n",
       "        ...,\n",
       "        [ 0.0368,  0.0305, -0.0285,  ..., -0.0600, -0.0721,  0.1510],\n",
       "        [-0.0329,  0.0195, -0.1278,  ..., -0.1751, -0.0754,  0.1974],\n",
       "        [ 0.0530,  0.0480, -0.0100,  ...,  0.0250, -0.0308,  0.0691]])"
      ]
     },
     "execution_count": 5,
     "metadata": {},
     "output_type": "execute_result"
    }
   ],
   "source": [
    "graph.x"
   ]
  },
  {
   "cell_type": "code",
   "execution_count": 6,
   "metadata": {
    "colab": {
     "base_uri": "https://localhost:8080/"
    },
    "id": "s-CQgMbF4vZu",
    "outputId": "4faa86f4-41f5-4019-c400-db159e9b4741"
   },
   "outputs": [
    {
     "data": {
      "text/plain": [
       "tensor([7, 2, 2,  ..., 2, 5, 7])"
      ]
     },
     "execution_count": 6,
     "metadata": {},
     "output_type": "execute_result"
    }
   ],
   "source": [
    "graph.y"
   ]
  },
  {
   "cell_type": "code",
   "execution_count": 7,
   "metadata": {
    "colab": {
     "base_uri": "https://localhost:8080/",
     "height": 337
    },
    "id": "qk5zopbL4wQi",
    "outputId": "46ea2778-1064-47d1-d6b1-8d7c47ebc39c"
   },
   "outputs": [
    {
     "data": {
      "text/plain": [
       "<Axes: ylabel='Frequency'>"
      ]
     },
     "execution_count": 7,
     "metadata": {},
     "output_type": "execute_result"
    },
    {
     "data": {
      "image/png": "[encoded data removed]",
      "text/plain": [
       "<Figure size 500x500 with 1 Axes>"
      ]
     },
     "metadata": {},
     "output_type": "display_data"
    }
   ],
   "source": [
    "import pandas as pd\n",
    "from pylab import rcParams\n",
    "rcParams['figure.figsize'] = 5, 5\n",
    "df = pd.DataFrame(graph.y.numpy(), columns=[\"CS_Topics\"])\n",
    "df['CS_Topics'].plot(kind='hist')"
   ]
  },
  {
   "cell_type": "code",
   "execution_count": 8,
   "metadata": {
    "id": "DB1D9Wn_jLms"
   },
   "outputs": [],
   "source": [
    "train_mask_no_cv = torch.sum(graph.train_mask, axis = 1)"
   ]
  },
  {
   "cell_type": "code",
   "execution_count": 9,
   "metadata": {
    "id": "59_iKFOujQ7-"
   },
   "outputs": [],
   "source": [
    "val_mask_no_cv = torch.sum(graph.val_mask, axis = 1)"
   ]
  },
  {
   "cell_type": "markdown",
   "metadata": {
    "id": "slOgmKK44WWt"
   },
   "source": [
    "## Topic Classification Model (Can we predict the CS-topic based on the article's content)"
   ]
  },
  {
   "cell_type": "markdown",
   "metadata": {
    "id": "T7CjR3_xAQj3"
   },
   "source": [
    "When passing through GCN and Linear layer we reduce tensor sizes to lessen processing load"
   ]
  },
  {
   "cell_type": "code",
   "execution_count": 143,
   "metadata": {
    "colab": {
     "base_uri": "https://localhost:8080/"
    },
    "id": "YSkwkVYBCz0g",
    "outputId": "8572f1e9-3fa8-424c-85c3-550fd1353ec6"
   },
   "outputs": [
    {
     "name": "stdout",
     "output_type": "stream",
     "text": [
      "GNN(\n",
      "  (initial_conv): GATConv(300, 128, heads=1)\n",
      "  (conv1): GATConv(128, 128, heads=1)\n",
      "  (fc): Linear(in_features=128, out_features=10, bias=True)\n",
      "  (out): Softmax(dim=None)\n",
      ")\n",
      "Number of parameters:  56842\n"
     ]
    }
   ],
   "source": [
    "from torch.nn import Linear\n",
    "import torch.nn.functional as F \n",
    "from torch_geometric.nn import GATConv\n",
    "embedding_size = 128\n",
    "\n",
    "class GNN(torch.nn.Module):\n",
    "    def __init__(self):\n",
    "        # Init parent\n",
    "        super(GNN, self).__init__()\n",
    "\n",
    "        # GCN layers\n",
    "        self.initial_conv = GATConv(graph.num_features, embedding_size)\n",
    "        self.conv1 = GATConv(embedding_size, embedding_size)\n",
    "\n",
    "        # Output layer\n",
    "        self.fc = Linear(embedding_size, 10)\n",
    "        self.out = torch.nn.Softmax()\n",
    "        self.explainer_config = dict(explanation_type='model',\n",
    "            node_mask_type='attributes',\n",
    "            edge_mask_type='object',)\n",
    "        self.model_config = dict(mode='classification',\n",
    "            task_level='node',\n",
    "            return_type='log_probs',  # Model returns log probabilities.\n",
    "        )\n",
    "\n",
    "    def forward(self, x, edge_index):\n",
    "        emb = F.relu(self.initial_conv(x, edge_index))\n",
    "        emb = F.relu(self.conv1(emb, edge_index))\n",
    "\n",
    "        return self.out(self.fc(emb))\n",
    "    \n",
    "\n",
    "model = GNN()\n",
    "print(model)\n",
    "print(\"Number of parameters: \", sum(p.numel() for p in model.parameters()))"
   ]
  },
  {
   "cell_type": "markdown",
   "metadata": {
    "id": "Id5v-kcu4su3"
   },
   "source": [
    "## Model Training"
   ]
  },
  {
   "cell_type": "code",
   "execution_count": 144,
   "metadata": {
    "colab": {
     "base_uri": "https://localhost:8080/"
    },
    "id": "a03_4dpf-cuF",
    "outputId": "47df9ea9-7257-4361-e3e2-bfcca097f194"
   },
   "outputs": [
    {
     "name": "stderr",
     "output_type": "stream",
     "text": [
      "/tmp/ipykernel_1417900/3462707402.py:30: UserWarning: Implicit dimension choice for softmax has been deprecated. Change the call to include dim=X as an argument.\n",
      "  return self.out(self.fc(emb))\n"
     ]
    },
    {
     "name": "stdout",
     "output_type": "stream",
     "text": [
      "Epoch: 000, Val loss: 2.3072 | Train loss: 2.3068\n",
      "Epoch: 100, Val loss: 2.2586 | Train loss: 2.2293\n",
      "Epoch: 200, Val loss: 1.9012 | Train loss: 1.7220\n",
      "Epoch: 300, Val loss: 1.8653 | Train loss: 1.6252\n",
      "Epoch: 400, Val loss: 1.8635 | Train loss: 1.6198\n",
      "Epoch: 500, Val loss: 1.8624 | Train loss: 1.6174\n",
      "Epoch: 600, Val loss: 1.8621 | Train loss: 1.6162\n",
      "Epoch: 700, Val loss: 1.8619 | Train loss: 1.6156\n"
     ]
    }
   ],
   "source": [
    "# Use GPU for training\n",
    "device = torch.device(\"cuda:0\" if torch.cuda.is_available() else \"cpu\")\n",
    "model = GNN()\n",
    "model = model.to(device)\n",
    "graph = graph.to(device)\n",
    "\n",
    "# Loss function\n",
    "loss_fn = torch.nn.CrossEntropyLoss()\n",
    "optimizer = torch.optim.Adam(model.parameters(), lr=0.0001)  \n",
    "\n",
    "\n",
    "def train(train_mask, model):\n",
    "      model.train()\n",
    "      optimizer.zero_grad() \n",
    "      out = model.forward(graph.x, graph.edge_index)  \n",
    "      preds = out[train_mask]\n",
    "      targets = graph.y[train_mask]\n",
    "      loss = loss_fn(preds, targets)  \n",
    "      loss.backward() \n",
    "      optimizer.step()\n",
    "      return loss\n",
    "\n",
    "def test(test_mask, model):\n",
    "      model.eval()\n",
    "      optimizer.zero_grad() \n",
    "      out = model(graph.x, graph.edge_index)  \n",
    "      preds = out[test_mask]\n",
    "      targets = graph.y[test_mask]\n",
    "      loss = loss_fn(preds, targets)  \n",
    "      return loss\n",
    "\n",
    "for epoch in range(0, 800):\n",
    "    tr_loss = train(train_mask_no_cv, model)\n",
    "    if epoch % 100 == 0:\n",
    "      loss = test(val_mask_no_cv, model)\n",
    "      print(f'Epoch: {epoch:03d}, Val loss: {loss:.4f} | Train loss: {tr_loss:.4f}')\n"
   ]
  },
  {
   "cell_type": "code",
   "execution_count": 145,
   "metadata": {
    "colab": {
     "base_uri": "https://localhost:8080/"
    },
    "id": "nQxt6xE5K82r",
    "outputId": "511af698-a334-4458-dd16-376690e7865b"
   },
   "outputs": [
    {
     "name": "stderr",
     "output_type": "stream",
     "text": [
      "/tmp/ipykernel_1417900/3462707402.py:30: UserWarning: Implicit dimension choice for softmax has been deprecated. Change the call to include dim=X as an argument.\n",
      "  return self.out(self.fc(emb))\n"
     ]
    }
   ],
   "source": [
    "preds = model.forward(graph.x, graph.edge_index)"
   ]
  },
  {
   "cell_type": "code",
   "execution_count": 13,
   "metadata": {
    "colab": {
     "base_uri": "https://localhost:8080/"
    },
    "id": "nCWUc8B3Lb2v",
    "outputId": "7f48ea40-beb6-4db8-da25-b1814e3a15d7"
   },
   "outputs": [
    {
     "name": "stderr",
     "output_type": "stream",
     "text": [
      "/tmp/ipykernel_1417900/2782089021.py:1: UserWarning: Implicit dimension choice for softmax has been deprecated. Change the call to include dim=X as an argument.\n",
      "  torch.nn.functional.softmax(preds)[1:10]\n"
     ]
    },
    {
     "data": {
      "text/plain": [
       "tensor([[0.0854, 0.0854, 0.2316, 0.0854, 0.0854, 0.0854, 0.0854, 0.0855, 0.0854,\n",
       "         0.0854],\n",
       "        [0.0853, 0.0853, 0.2318, 0.0854, 0.0854, 0.0853, 0.0853, 0.0854, 0.0853,\n",
       "         0.0853],\n",
       "        [0.0885, 0.0885, 0.1468, 0.0885, 0.0885, 0.0885, 0.0885, 0.1451, 0.0885,\n",
       "         0.0885],\n",
       "        [0.0856, 0.0856, 0.2284, 0.0857, 0.0856, 0.0856, 0.0856, 0.0868, 0.0856,\n",
       "         0.0856],\n",
       "        [0.0853, 0.0853, 0.0854, 0.0853, 0.0853, 0.0853, 0.0853, 0.2319, 0.0853,\n",
       "         0.0853],\n",
       "        [0.0854, 0.0854, 0.2306, 0.0855, 0.0854, 0.0854, 0.0854, 0.0859, 0.0854,\n",
       "         0.0854],\n",
       "        [0.0856, 0.0856, 0.2273, 0.0857, 0.0857, 0.0856, 0.0856, 0.0876, 0.0856,\n",
       "         0.0856],\n",
       "        [0.0855, 0.0855, 0.2296, 0.0855, 0.0855, 0.0855, 0.0855, 0.0863, 0.0855,\n",
       "         0.0855],\n",
       "        [0.0854, 0.0854, 0.2305, 0.0854, 0.0854, 0.0854, 0.0854, 0.0860, 0.0854,\n",
       "         0.0854]], device='cuda:0', grad_fn=<SliceBackward0>)"
      ]
     },
     "execution_count": 13,
     "metadata": {},
     "output_type": "execute_result"
    }
   ],
   "source": [
    "torch.nn.functional.softmax(preds)[1:10]"
   ]
  },
  {
   "cell_type": "code",
   "execution_count": 146,
   "metadata": {
    "colab": {
     "base_uri": "https://localhost:8080/"
    },
    "id": "LSyA6981L3Gt",
    "outputId": "2bd29b4f-5460-4ed0-ad66-a9b458f2cf49"
   },
   "outputs": [
    {
     "name": "stdout",
     "output_type": "stream",
     "text": [
      "Requirement already satisfied: torchmetrics in /home/datares/.conda/envs/Group3Conda/lib/python3.8/site-packages (0.11.3)\n",
      "Requirement already satisfied: torch>=1.8.1 in /home/datares/.conda/envs/Group3Conda/lib/python3.8/site-packages (from torchmetrics) (1.13.1)\n",
      "Requirement already satisfied: packaging in /home/datares/.conda/envs/Group3Conda/lib/python3.8/site-packages (from torchmetrics) (23.0)\n",
      "Requirement already satisfied: numpy>=1.17.2 in /home/datares/.conda/envs/Group3Conda/lib/python3.8/site-packages (from torchmetrics) (1.24.2)\n",
      "Requirement already satisfied: typing-extensions in /home/datares/.conda/envs/Group3Conda/lib/python3.8/site-packages (from torchmetrics) (4.5.0)\n",
      "Requirement already satisfied: nvidia-cudnn-cu11==8.5.0.96 in /home/datares/.conda/envs/Group3Conda/lib/python3.8/site-packages (from torch>=1.8.1->torchmetrics) (8.5.0.96)\n",
      "Requirement already satisfied: nvidia-cuda-runtime-cu11==11.7.99 in /home/datares/.conda/envs/Group3Conda/lib/python3.8/site-packages (from torch>=1.8.1->torchmetrics) (11.7.99)\n",
      "Requirement already satisfied: nvidia-cublas-cu11==11.10.3.66 in /home/datares/.conda/envs/Group3Conda/lib/python3.8/site-packages (from torch>=1.8.1->torchmetrics) (11.10.3.66)\n",
      "Requirement already satisfied: nvidia-cuda-nvrtc-cu11==11.7.99 in /home/datares/.conda/envs/Group3Conda/lib/python3.8/site-packages (from torch>=1.8.1->torchmetrics) (11.7.99)\n",
      "Requirement already satisfied: wheel in /home/datares/.conda/envs/Group3Conda/lib/python3.8/site-packages (from nvidia-cublas-cu11==11.10.3.66->torch>=1.8.1->torchmetrics) (0.38.4)\n",
      "Requirement already satisfied: setuptools in /home/datares/.conda/envs/Group3Conda/lib/python3.8/site-packages (from nvidia-cublas-cu11==11.10.3.66->torch>=1.8.1->torchmetrics) (65.6.3)\n",
      "accuracy =  MulticlassAccuracy()\n"
     ]
    }
   ],
   "source": [
    "!pip install torchmetrics\n",
    "import torchmetrics\n",
    "accuracy = torchmetrics.Accuracy(task=\"multiclass\", num_classes=10, top_k=1).to(device)\n",
    "print(\"accuracy = \", accuracy)"
   ]
  },
  {
   "cell_type": "code",
   "execution_count": 148,
   "metadata": {
    "colab": {
     "base_uri": "https://localhost:8080/"
    },
    "id": "X_cp9uvSlZgT",
    "outputId": "cb29976f-de98-43e1-a0d0-0c057d15f858"
   },
   "outputs": [
    {
     "data": {
      "text/plain": [
       "tensor([2, 4, 2,  ..., 4, 3, 2], device='cuda:0')"
      ]
     },
     "execution_count": 148,
     "metadata": {},
     "output_type": "execute_result"
    }
   ],
   "source": [
    "graph.y.to(device)[graph.test_mask]"
   ]
  },
  {
   "cell_type": "code",
   "execution_count": 149,
   "metadata": {
    "colab": {
     "base_uri": "https://localhost:8080/"
    },
    "id": "_8JpmF3pld_J",
    "outputId": "7063fefc-3a28-44ec-faae-9ccbd23e5bc1"
   },
   "outputs": [
    {
     "data": {
      "text/plain": [
       "tensor([[1.0754e-04, 1.2944e-03, 9.9524e-01,  ..., 2.4140e-03, 8.6106e-05,\n",
       "         1.3288e-04],\n",
       "        [8.1192e-04, 7.5883e-03, 9.2400e-01,  ..., 6.1212e-02, 6.4942e-04,\n",
       "         9.0336e-04],\n",
       "        [3.4205e-04, 3.4175e-03, 9.8013e-01,  ..., 1.3369e-02, 2.5903e-04,\n",
       "         3.8980e-04],\n",
       "        ...,\n",
       "        [1.1424e-03, 9.2688e-03, 9.2147e-01,  ..., 5.9458e-02, 8.9997e-04,\n",
       "         1.2357e-03],\n",
       "        [4.9420e-04, 4.0960e-03, 9.8136e-01,  ..., 1.0022e-02, 4.1196e-04,\n",
       "         5.8966e-04],\n",
       "        [1.2852e-04, 1.5374e-03, 9.9372e-01,  ..., 3.5107e-03, 1.0134e-04,\n",
       "         1.5749e-04]], device='cuda:0', grad_fn=<IndexBackward0>)"
      ]
     },
     "execution_count": 149,
     "metadata": {},
     "output_type": "execute_result"
    }
   ],
   "source": [
    "preds[graph.test_mask]"
   ]
  },
  {
   "cell_type": "code",
   "execution_count": 150,
   "metadata": {
    "colab": {
     "base_uri": "https://localhost:8080/"
    },
    "id": "--HzBJgdMnB2",
    "outputId": "04692938-1582-474f-fefd-0ad660188271"
   },
   "outputs": [
    {
     "name": "stdout",
     "output_type": "stream",
     "text": [
      "accuracy =  tensor(0.1948, device='cuda:0')\n"
     ]
    }
   ],
   "source": [
    "accuracy = torchmetrics.Accuracy(task=\"multiclass\", num_classes=10, top_k=1).to(device)\n",
    "print(\"accuracy = \", accuracy(preds[graph.test_mask], graph.y.to(device)[graph.test_mask]))"
   ]
  },
  {
   "cell_type": "markdown",
   "metadata": {
    "id": "ouPETidG464Z"
   },
   "source": [
    "## Explaining the Predictions (Only here do we use GNNExplainer)"
   ]
  },
  {
   "cell_type": "markdown",
   "metadata": {},
   "source": [
    "# HELP PLS WHY IS THERE AN ERROR\n",
    "(links: https://pytorch-geometric.readthedocs.io/en/latest/tutorial/explain.html\n",
    "https://pytorch-geometric.readthedocs.io/en/latest/modules/explain.html#torch_geometric.explain.Explainer)"
   ]
  },
  {
   "cell_type": "code",
   "execution_count": 168,
   "metadata": {
    "colab": {
     "base_uri": "https://localhost:8080/"
    },
    "id": "2PnTQLJsP8ol",
    "outputId": "95f637bb-3307-474c-c1ad-d3a515b2992e"
   },
   "outputs": [
    {
     "ename": "TypeError",
     "evalue": "connect() missing 1 required positional argument: 'model_config'",
     "output_type": "error",
     "traceback": [
      "\u001b[0;31m---------------------------------------------------------------------------\u001b[0m",
      "\u001b[0;31mTypeError\u001b[0m                                 Traceback (most recent call last)",
      "Cell \u001b[0;32mIn[168], line 11\u001b[0m\n\u001b[1;32m      9\u001b[0m threshold_config \u001b[39m=\u001b[39m ThresholdConfig(\u001b[39m\"\u001b[39m\u001b[39mhard\u001b[39m\u001b[39m\"\u001b[39m, \u001b[39m1\u001b[39m)\n\u001b[1;32m     10\u001b[0m \u001b[39m# Initialize explainer\u001b[39;00m\n\u001b[0;32m---> 11\u001b[0m explainer \u001b[39m=\u001b[39m Explainer(model, GNNExplainer, explainer_config, model_config, threshold_config)\n\u001b[1;32m     12\u001b[0m \u001b[39m# Explain node\u001b[39;00m\n\u001b[1;32m     13\u001b[0m node_idx \u001b[39m=\u001b[39m \u001b[39m7\u001b[39m\n",
      "File \u001b[0;32m~/.conda/envs/Group3Conda/lib/python3.8/site-packages/torch_geometric/explain/explainer.py:46\u001b[0m, in \u001b[0;36mExplainer.__init__\u001b[0;34m(self, model, algorithm, explainer_config, model_config, threshold_config)\u001b[0m\n\u001b[1;32m     43\u001b[0m \u001b[39mself\u001b[39m\u001b[39m.\u001b[39mmodel_config \u001b[39m=\u001b[39m ModelConfig\u001b[39m.\u001b[39mcast(model_config)\n\u001b[1;32m     44\u001b[0m \u001b[39mself\u001b[39m\u001b[39m.\u001b[39mthreshold_config \u001b[39m=\u001b[39m ThresholdConfig\u001b[39m.\u001b[39mcast(threshold_config)\n\u001b[0;32m---> 46\u001b[0m \u001b[39mself\u001b[39;49m\u001b[39m.\u001b[39;49malgorithm\u001b[39m.\u001b[39;49mconnect(\u001b[39mself\u001b[39;49m\u001b[39m.\u001b[39;49mexplainer_config, \u001b[39mself\u001b[39;49m\u001b[39m.\u001b[39;49mmodel_config)\n",
      "\u001b[0;31mTypeError\u001b[0m: connect() missing 1 required positional argument: 'model_config'"
     ]
    }
   ],
   "source": [
    "from torch_geometric.explain import Explainer, ExplainerConfig, ModelConfig, ThresholdConfig, GNNExplainer\n",
    "explainer_config = ExplainerConfig(explanation_type='model',\n",
    "    node_mask_type='attributes',\n",
    "    edge_mask_type='object')\n",
    "model_config = ModelConfig(mode='classification',\n",
    "        task_level='node',\n",
    "        return_type='log_probs',  # Model returns log probabilities.\n",
    "        )\n",
    "threshold_config = ThresholdConfig(\"hard\", 1)\n",
    "# Initialize explainer\n",
    "explainer = Explainer(model, GNNExplainer, explainer_config, model_config, threshold_config)\n",
    "# Explain node\n",
    "node_idx = 7\n",
    "node_feat_mask, edge_mask = explainer.explain_node(node_idx, graph.x, graph.edge_index)\n",
    "print(\"Size of explanation: \", sum(edge_mask > 0))"
   ]
  },
  {
   "cell_type": "code",
   "execution_count": 23,
   "metadata": {
    "id": "FMcvzr_8cKs5"
   },
   "outputs": [
    {
     "ename": "AttributeError",
     "evalue": "'GNNExplainer_' object has no attribute 'visualize_feature_importance'",
     "output_type": "error",
     "traceback": [
      "\u001b[0;31m---------------------------------------------------------------------------\u001b[0m",
      "\u001b[0;31mAttributeError\u001b[0m                            Traceback (most recent call last)",
      "Cell \u001b[0;32mIn[23], line 1\u001b[0m\n\u001b[0;32m----> 1\u001b[0m explainer\u001b[39m.\u001b[39;49mvisualize_feature_importance(top_k\u001b[39m=\u001b[39m\u001b[39m10\u001b[39m)\n\u001b[1;32m      3\u001b[0m explainer\u001b[39m.\u001b[39mvisualize_graph()\n",
      "\u001b[0;31mAttributeError\u001b[0m: 'GNNExplainer_' object has no attribute 'visualize_feature_importance'"
     ]
    }
   ],
   "source": [
    "explainer.visualize_feature_importance(top_k=10)\n",
    "\n",
    "explainer.visualize_graph()"
   ]
  },
  {
   "cell_type": "code",
   "execution_count": 21,
   "metadata": {
    "colab": {
     "base_uri": "https://localhost:8080/",
     "height": 217
    },
    "id": "e83xvK6bQH_i",
    "outputId": "313e1ebf-cc05-4d8f-a86c-04af8ed07ccc"
   },
   "outputs": [
    {
     "ename": "AttributeError",
     "evalue": "'GNNExplainer_' object has no attribute 'visualize_graph'",
     "output_type": "error",
     "traceback": [
      "\u001b[0;31m---------------------------------------------------------------------------\u001b[0m",
      "\u001b[0;31mAttributeError\u001b[0m                            Traceback (most recent call last)",
      "Cell \u001b[0;32mIn[21], line 6\u001b[0m\n\u001b[1;32m      3\u001b[0m rcParams[\u001b[39m'\u001b[39m\u001b[39mfigure.figsize\u001b[39m\u001b[39m'\u001b[39m] \u001b[39m=\u001b[39m \u001b[39m10\u001b[39m, \u001b[39m10\u001b[39m\n\u001b[1;32m      5\u001b[0m \u001b[39m# Visualize result\u001b[39;00m\n\u001b[0;32m----> 6\u001b[0m ax, G \u001b[39m=\u001b[39m explainer\u001b[39m.\u001b[39;49mvisualize_graph(node_idx, graph\u001b[39m.\u001b[39medge_index, edge_mask, y\u001b[39m=\u001b[39mgraph\u001b[39m.\u001b[39my)\n\u001b[1;32m      7\u001b[0m plt\u001b[39m.\u001b[39mshow()\n",
      "\u001b[0;31mAttributeError\u001b[0m: 'GNNExplainer_' object has no attribute 'visualize_graph'"
     ]
    }
   ],
   "source": [
    "import matplotlib.pyplot as plt\n",
    "from pylab import rcParams\n",
    "rcParams['figure.figsize'] = 10, 10\n",
    "\n",
    "# Visualize result\n",
    "ax, G = explainer.visualize_graph(node_idx, graph.edge_index, edge_mask, y=graph.y)\n",
    "plt.show()"
   ]
  },
  {
   "cell_type": "code",
   "execution_count": null,
   "metadata": {
    "id": "nWfZxUTo_t8x"
   },
   "outputs": [],
   "source": [
    "graph.train_mask.shape"
   ]
  },
  {
   "cell_type": "code",
   "execution_count": null,
   "metadata": {
    "id": "haIpe84MD-QD"
   },
   "outputs": [],
   "source": [
    "graph.val_mask.shape"
   ]
  },
  {
   "cell_type": "markdown",
   "metadata": {
    "id": "pMQ06m9O5pR7"
   },
   "source": [
    "## Visualizations"
   ]
  },
  {
   "cell_type": "code",
   "execution_count": null,
   "metadata": {
    "id": "we13bqwNY1SA"
   },
   "outputs": [],
   "source": []
  }
 ],
 "metadata": {
  "accelerator": "GPU",
  "colab": {
   "provenance": []
  },
  "gpuClass": "standard",
  "kernelspec": {
   "display_name": "Python 3 (ipykernel)",
   "language": "python",
   "name": "python3"
  },
  "language_info": {
   "codemirror_mode": {
    "name": "ipython",
    "version": 3
   },
   "file_extension": ".py",
   "mimetype": "text/x-python",
   "name": "python",
   "nbconvert_exporter": "python",
   "pygments_lexer": "ipython3",
   "version": "3.11.1"
  },
  "vscode": {
   "interpreter": {
    "hash": "20ecc959ecd0e9f2d8885f07a2eaef76b63eb27b268ddab42842408be21b7e01"
   }
  }
 },
 "nbformat": 4,
 "nbformat_minor": 1
}
