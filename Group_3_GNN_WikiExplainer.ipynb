{
  "cells": [
    {
      "cell_type": "markdown",
      "metadata": {
        "id": "CAjW4hbR57-S"
      },
      "source": [
        "## Project Outline\n",
        "##### Our dataset contains CS-related wikipedia articles with their content summarized into text-embeddings. These articles are already categorized into different topics of Computer Science (CS-Subtopics)\n",
        "\n",
        "### We first create a model to predict an article's correct CS-Subtopic, given the content text embedding as an input.\n",
        "\n",
        "### We use GNN explainer to get the most important articles (from all subtopics) and see their connections. The connections are how similar each article's content(text-embeddings) are to one another. We can color-code each node with their respective subtopic and see how the subtopics look in relation to the connections. I.e. are most nodes(articles) of the same color (subtopic) mostly connected? And are there some nodes that are connected to many other nodes with different colors(subtopics)?\n"
      ]
    },
    {
      "cell_type": "markdown",
      "metadata": {
        "id": "2Ml0Wu5HwF4-"
      },
      "source": [
        "## Install PyTorch"
      ]
    },
    {
      "cell_type": "code",
      "execution_count": 2,
      "metadata": {
        "colab": {
          "base_uri": "https://localhost:8080/"
        },
        "id": "m4fun1w-vyVn",
        "outputId": "d870caab-68fe-4d48-e52d-61652f8e1329"
      },
      "outputs": [
        {
          "name": "stdout",
          "output_type": "stream",
          "text": [
            "Torch geometric version:  2.2.0\n",
            "Torch version:  1.13.1\n",
            "Done.\n"
          ]
        }
      ],
      "source": [
        "import torch\n",
        "import torch_geometric\n",
        "print(\"Torch geometric version: \", torch_geometric.__version__)\n",
        "torch_version = torch.__version__\n",
        "print(\"Torch version: \", torch_version)\n",
        "pytorch_version = f\"torch-{torch.__version__}.html\"\n",
        "print(\"Done.\")"
      ]
    },
    {
      "cell_type": "markdown",
      "metadata": {
        "id": "9aZYMGpEwaP3"
      },
      "source": [
        "## Import WikiCS Dataset"
      ]
    },
    {
      "cell_type": "code",
      "execution_count": 3,
      "metadata": {
        "colab": {
          "base_uri": "https://localhost:8080/"
        },
        "id": "RexCzozWwavT",
        "outputId": "aef034f4-801a-49b6-9f3f-47cae36a91bf"
      },
      "outputs": [
        {
          "name": "stderr",
          "output_type": "stream",
          "text": [
            "/home/datares/.conda/envs/group3_update/lib/python3.10/site-packages/torch_geometric/datasets/wikics.py:38: UserWarning: The WikiCS dataset now returns an undirected graph by default. Please explicitly specify 'is_undirected=False' to restore the old behaviour.\n",
            "  warnings.warn(\n"
          ]
        },
        {
          "data": {
            "text/plain": [
              "Data(x=[11701, 300], edge_index=[2, 431726], y=[11701], train_mask=[11701, 20], val_mask=[11701, 20], test_mask=[11701], stopping_mask=[11701, 20])"
            ]
          },
          "execution_count": 3,
          "metadata": {},
          "output_type": "execute_result"
        }
      ],
      "source": [
        "from torch_geometric.datasets import WikiCS\n",
        "# Dataset source: https://github.com/pmernyei/wiki-cs-dataset\n",
        "graph = WikiCS(root=\".\")[0]\n",
        "graph"
      ]
    },
    {
      "cell_type": "code",
      "execution_count": 4,
      "metadata": {
        "colab": {
          "base_uri": "https://localhost:8080/",
          "height": 337
        },
        "id": "qk5zopbL4wQi",
        "outputId": "46ea2778-1064-47d1-d6b1-8d7c47ebc39c"
      },
      "outputs": [
        {
          "data": {
            "text/plain": [
              "<Axes: ylabel='Frequency'>"
            ]
          },
          "execution_count": 4,
          "metadata": {},
          "output_type": "execute_result"
        },
        {
          "data": {
            "image/png": "[encoded data removed]",
            "text/plain": [
              "<Figure size 500x500 with 1 Axes>"
            ]
          },
          "metadata": {},
          "output_type": "display_data"
        }
      ],
      "source": [
        "import pandas as pd\n",
        "from pylab import rcParams\n",
        "rcParams['figure.figsize'] = 5, 5\n",
        "df = pd.DataFrame(graph.y.numpy(), columns=[\"CS_Topics\"])\n",
        "df['CS_Topics'].plot(kind='hist')"
      ]
    },
    {
      "cell_type": "markdown",
      "metadata": {
        "id": "slOgmKK44WWt"
      },
      "source": [
        "## Topic Classification Model (Can we predict the CS-topic based on the article's content)"
      ]
    },
    {
      "cell_type": "markdown",
      "metadata": {
        "id": "T7CjR3_xAQj3"
      },
      "source": [
        "When passing through GCN and Linear layer we reduce tensor sizes to lessen processing load"
      ]
    },
    {
      "cell_type": "code",
      "execution_count": 5,
      "metadata": {
        "colab": {
          "base_uri": "https://localhost:8080/"
        },
        "id": "YSkwkVYBCz0g",
        "outputId": "8572f1e9-3fa8-424c-85c3-550fd1353ec6"
      },
      "outputs": [
        {
          "name": "stdout",
          "output_type": "stream",
          "text": [
            "GNN(\n",
            "  (initial_conv): GATConv(300, 1024, heads=1)\n",
            "  (conv1): GATConv(1024, 1024, heads=1)\n",
            "  (fc): Linear(in_features=1024, out_features=10, bias=True)\n",
            "  (out): Softmax(dim=None)\n",
            ")\n",
            "Number of parameters:  1372170\n"
          ]
        }
      ],
      "source": [
        "from torch.nn import Linear\n",
        "import torch.nn.functional as F \n",
        "from torch_geometric.nn import GATConv\n",
        "embedding_size = 1024\n",
        "\n",
        "class GNN(torch.nn.Module):\n",
        "    def __init__(in_graph):\n",
        "        # Init parent\n",
        "        super(GNN, in_graph).__init__()\n",
        "\n",
        "        # GCN layers\n",
        "        in_graph.initial_conv = GATConv(graph.num_features, embedding_size)\n",
        "        in_graph.conv1 = GATConv(embedding_size, embedding_size)\n",
        "\n",
        "        # Output layer\n",
        "        in_graph.fc = Linear(embedding_size, 10)\n",
        "        in_graph.out = torch.nn.Softmax()\n",
        "        # in_graph.explainer_config = ('model',\n",
        "        #     'attributes',\n",
        "        #     'object')\n",
        "        # in_graph.model_config = ('classification',\n",
        "        #     'node',\n",
        "        #     'log_probs'  # Model returns log probabilities.\n",
        "        # )\n",
        "\n",
        "    def forward(in_graph, x, edge_index):\n",
        "        emb = F.relu(in_graph.initial_conv(x, edge_index))\n",
        "        emb = F.relu(in_graph.conv1(emb, edge_index))\n",
        "\n",
        "        return in_graph.out(in_graph.fc(emb))\n",
        "    \n",
        "\n",
        "model = GNN()\n",
        "print(model)\n",
        "print(\"Number of parameters: \", sum(p.numel() for p in model.parameters()))"
      ]
    },
    {
      "cell_type": "markdown",
      "metadata": {
        "id": "Id5v-kcu4su3"
      },
      "source": [
        "## Model Training"
      ]
    },
    {
      "cell_type": "code",
      "execution_count": 6,
      "metadata": {
        "colab": {
          "base_uri": "https://localhost:8080/"
        },
        "id": "a03_4dpf-cuF",
        "outputId": "47df9ea9-7257-4361-e3e2-bfcca097f194"
      },
      "outputs": [
        {
          "name": "stderr",
          "output_type": "stream",
          "text": [
            "/home/datares/.conda/envs/group3_update/lib/python3.10/site-packages/torch_geometric/datasets/wikics.py:38: UserWarning: The WikiCS dataset now returns an undirected graph by default. Please explicitly specify 'is_undirected=False' to restore the old behaviour.\n",
            "  warnings.warn(\n",
            "/home/datares/Group3/model.py:37: UserWarning: Implicit dimension choice for softmax has been deprecated. Change the call to include dim=X as an argument.\n",
            "  return in_graph.out(in_graph.fc(emb))\n"
          ]
        },
        {
          "name": "stdout",
          "output_type": "stream",
          "text": [
            "Epoch: 000, Val loss: 2.3032 | Train loss: 2.3036\n",
            "Epoch: 100, Val loss: 2.2164 | Train loss: 2.2141\n",
            "Epoch: 200, Val loss: 2.0258 | Train loss: 2.0210\n",
            "Epoch: 300, Val loss: 1.9677 | Train loss: 1.9624\n",
            "Epoch: 400, Val loss: 1.9534 | Train loss: 1.9443\n",
            "Epoch: 500, Val loss: 1.9391 | Train loss: 1.9295\n",
            "Epoch: 600, Val loss: 1.8724 | Train loss: 1.8631\n",
            "Epoch: 700, Val loss: 1.8557 | Train loss: 1.8431\n"
          ]
        }
      ],
      "source": [
        "# Use GPU for training\n",
        "from model import GCN, GAT, GraphSAGE, GPS\n",
        "device = torch.device(\"cuda:0\" if torch.cuda.is_available() else \"cpu\")\n",
        "model = GCN()\n",
        "model = model.to(device)\n",
        "graph = graph.to(device)\n",
        "\n",
        "# Loss function\n",
        "loss_fn = torch.nn.CrossEntropyLoss()\n",
        "optimizer = torch.optim.Adam(model.parameters(), lr=0.0001)  \n",
        "\n",
        "\n",
        "def train(train_mask, model):\n",
        "      model.train()\n",
        "      optimizer.zero_grad() \n",
        "      out = model.forward(graph.x, graph.edge_index)  \n",
        "      preds = out[train_mask]\n",
        "      targets = graph.y[train_mask]\n",
        "      loss = loss_fn(preds, targets)  \n",
        "      loss.backward() \n",
        "      optimizer.step()\n",
        "      return loss\n",
        "\n",
        "def test(test_mask, model):\n",
        "      model.eval()\n",
        "      optimizer.zero_grad() \n",
        "      out = model(graph.x, graph.edge_index)  \n",
        "      preds = out[test_mask]\n",
        "      targets = graph.y[test_mask]\n",
        "      loss = loss_fn(preds, targets)  \n",
        "      return loss\n",
        "\n",
        "\n",
        "\n",
        "for epoch in range(0, 800):\n",
        "    tr_loss = train(graph.train_mask[:,0], model)\n",
        "    if epoch % 100 == 0:\n",
        "      loss = test(graph.val_mask[:,0], model)\n",
        "      print(f'Epoch: {epoch:03d}, Val loss: {loss:.4f} | Train loss: {tr_loss:.4f}')\n"
      ]
    },
    {
      "cell_type": "code",
      "execution_count": 7,
      "metadata": {
        "colab": {
          "base_uri": "https://localhost:8080/"
        },
        "id": "nQxt6xE5K82r",
        "outputId": "511af698-a334-4458-dd16-376690e7865b"
      },
      "outputs": [
        {
          "name": "stdout",
          "output_type": "stream",
          "text": [
            "accuracy =  tensor(0.6092, device='cuda:0')\n"
          ]
        }
      ],
      "source": [
        "preds = model.forward(graph.x, graph.edge_index)\n",
        "import torchmetrics\n",
        "accuracy = torchmetrics.Accuracy(task=\"multiclass\", num_classes=10, top_k=1).to(device)\n",
        "print(\"accuracy = \", accuracy(preds[graph.test_mask], graph.y.to(device)[graph.test_mask]))"
      ]
    },
    {
      "cell_type": "markdown",
      "metadata": {
        "id": "ouPETidG464Z"
      },
      "source": [
        "## Explaining the Predictions (Only here do we use GNNExplainer)"
      ]
    },
    {
      "attachments": {},
      "cell_type": "markdown",
      "metadata": {},
      "source": [
        "(links: https://pytorch-geometric.readthedocs.io/en/latest/tutorial/explain.html\n",
        "https://pytorch-geometric.readthedocs.io/en/latest/modules/explain.html#torch_geometric.explain.Explainer)"
      ]
    },
    {
      "cell_type": "code",
      "execution_count": 10,
      "metadata": {
        "colab": {
          "base_uri": "https://localhost:8080/"
        },
        "id": "2PnTQLJsP8ol",
        "outputId": "95f637bb-3307-474c-c1ad-d3a515b2992e"
      },
      "outputs": [
        {
          "ename": "NameError",
          "evalue": "name 'edge_mask' is not defined",
          "output_type": "error",
          "traceback": [
            "\u001b[0;31m---------------------------------------------------------------------------\u001b[0m",
            "\u001b[0;31mNameError\u001b[0m                                 Traceback (most recent call last)",
            "Cell \u001b[0;32mIn[10], line 11\u001b[0m\n\u001b[1;32m      9\u001b[0m explainer \u001b[39m=\u001b[39m Explainer(model\u001b[39m=\u001b[39mmodel, algorithm\u001b[39m=\u001b[39mGNNExplainer(epochs\u001b[39m=\u001b[39m\u001b[39m200\u001b[39m), explainer_config\u001b[39m=\u001b[39mexplainer_config, model_config\u001b[39m=\u001b[39mmodel_config)\n\u001b[1;32m     10\u001b[0m explanation \u001b[39m=\u001b[39m explainer(graph\u001b[39m.\u001b[39mx,graph\u001b[39m.\u001b[39medge_index)\n\u001b[0;32m---> 11\u001b[0m \u001b[39mprint\u001b[39m(\u001b[39m\"\u001b[39m\u001b[39mSize of explanation: \u001b[39m\u001b[39m\"\u001b[39m, \u001b[39msum\u001b[39m(edge_mask \u001b[39m>\u001b[39m \u001b[39m0\u001b[39m))\n",
            "\u001b[0;31mNameError\u001b[0m: name 'edge_mask' is not defined"
          ]
        }
      ],
      "source": [
        "from torch_geometric.explain import Explainer, ModelConfig, ExplainerConfig, ThresholdConfig, GNNExplainer\n",
        "# Initialize explainer\n",
        "    # Establish Config Files\n",
        "model_config = ModelConfig(mode=\"classification\", task_level=\"node\", return_type=\"probs\")\n",
        "explainer_config = ExplainerConfig(explanation_type=\"model\", node_mask_type=\"attributes\",edge_mask_type=\"object\")\n",
        "threshold_config = ThresholdConfig(threshold_type = 'topk', 25)\n",
        "\n",
        "# Create Explainer instance\n",
        "node_idx = 69\n",
        "explainer = Explainer(model=model, algorithm=GNNExplainer(epochs=200), explainer_config=explainer_config, model_config=model_config, threshold_config = threshold_config)\n",
        "explanation = explainer(graph.x,graph.edge_index)\n",
        "print(\"Size of explanation: \", sum(edge_mask > 0))"
      ]
    },
    {
      "cell_type": "code",
      "execution_count": 9,
      "metadata": {},
      "outputs": [],
      "source": [
        "sub_graph = explanation.get_explanation_subgraph()\n",
        "sub_x = sub_graph.x\n",
        "# sub_edge_index = sub_graph.edge_index\n",
        "# sub_x, sub_edge_index, sub_edge_mask, sub_node_feat_mask "
      ]
    },
    {
      "cell_type": "code",
      "execution_count": 10,
      "metadata": {},
      "outputs": [
        {
          "data": {
            "image/png": "[encoded data removed]",
            "text/plain": [
              "<Figure size 1000x700 with 1 Axes>"
            ]
          },
          "metadata": {},
          "output_type": "display_data"
        }
      ],
      "source": [
        "import matplotlib.pyplot as plt\n",
        "from pylab import rcParams\n",
        "from utils import *\n",
        "rcParams['figure.figsize'] = 10, 10\n",
        "# Visualize result\n",
        "visualize_feature_importance(explanation=sub_graph, top_k=4)\n",
        "ax, G = visualize_graph(sub_graph)\n",
        "plt.show()"
      ]
    },
    {
      "cell_type": "code",
      "execution_count": 11,
      "metadata": {},
      "outputs": [
        {
          "ename": "NameError",
          "evalue": "name 'visualize_feature_importance' is not defined",
          "output_type": "error",
          "traceback": [
            "\u001b[0;31m---------------------------------------------------------------------------\u001b[0m",
            "\u001b[0;31mNameError\u001b[0m                                 Traceback (most recent call last)",
            "Cell \u001b[0;32mIn[11], line 6\u001b[0m\n\u001b[1;32m      3\u001b[0m rcParams[\u001b[39m'\u001b[39m\u001b[39mfigure.figsize\u001b[39m\u001b[39m'\u001b[39m] \u001b[39m=\u001b[39m \u001b[39m10\u001b[39m, \u001b[39m10\u001b[39m\n\u001b[1;32m      5\u001b[0m \u001b[39m# Visualize result\u001b[39;00m\n\u001b[0;32m----> 6\u001b[0m ax, G \u001b[39m=\u001b[39m visualize_feature_importance(node_idx, graph\u001b[39m.\u001b[39medge_index, edge_mask, y\u001b[39m=\u001b[39mgraph\u001b[39m.\u001b[39my)\n\u001b[1;32m      7\u001b[0m plt\u001b[39m.\u001b[39mshow()\n",
            "\u001b[0;31mNameError\u001b[0m: name 'visualize_feature_importance' is not defined"
          ]
        }
      ],
      "source": [
        "import matplotlib.pyplot as plt\n",
        "from pylab import rcParams\n",
        "rcParams['figure.figsize'] = 10, 10\n",
        "\n",
        "# Visualize result\n",
        "ax, G = visualize_feature_importance(node_idx, graph.edge_index, edge_mask, y=graph.y)\n",
        "plt.show()"
      ]
    },
    {
      "cell_type": "code",
      "execution_count": null,
      "metadata": {},
      "outputs": [],
      "source": []
    },
    {
      "cell_type": "code",
      "execution_count": null,
      "metadata": {
        "id": "nWfZxUTo_t8x"
      },
      "outputs": [],
      "source": [
        "graph.train_mask.shape"
      ]
    },
    {
      "cell_type": "code",
      "execution_count": null,
      "metadata": {
        "id": "haIpe84MD-QD"
      },
      "outputs": [],
      "source": [
        "graph.val_mask.shape"
      ]
    },
    {
      "cell_type": "markdown",
      "metadata": {
        "id": "pMQ06m9O5pR7"
      },
      "source": [
        "## Visualizations"
      ]
    },
    {
      "cell_type": "code",
      "execution_count": null,
      "metadata": {
        "id": "we13bqwNY1SA"
      },
      "outputs": [],
      "source": []
    }
  ],
  "metadata": {
    "accelerator": "GPU",
    "colab": {
      "provenance": []
    },
    "gpuClass": "standard",
    "kernelspec": {
      "display_name": "group3_update",
      "language": "python",
      "name": "python3"
    },
    "language_info": {
      "codemirror_mode": {
        "name": "ipython",
        "version": 3
      },
      "file_extension": ".py",
      "mimetype": "text/x-python",
      "name": "python",
      "nbconvert_exporter": "python",
      "pygments_lexer": "ipython3",
      "version": "3.10.9"
    },
    "vscode": {
      "interpreter": {
        "hash": "78ecab1412492215bc29918cef74ae7995984c66693d0feddf5ab89b9e629d9a"
      }
    }
  },
  "nbformat": 4,
  "nbformat_minor": 0
}
