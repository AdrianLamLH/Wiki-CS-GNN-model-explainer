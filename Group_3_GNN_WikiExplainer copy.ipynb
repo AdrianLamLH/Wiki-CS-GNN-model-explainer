{
  "cells": [
    {
      "cell_type": "markdown",
      "metadata": {
        "id": "CAjW4hbR57-S"
      },
      "source": [
        "## Project Outline\n",
        "##### Our dataset contains CS-related wikipedia articles with their content summarized into text-embeddings. These articles are already categorized into different topics of Computer Science (CS-Subtopics)\n",
        "\n",
        "### We first create a model to predict an article's correct CS-Subtopic, given the content text embedding as an input.\n",
        "\n",
        "### We use GNN explainer to get the most important articles (from all subtopics) and see their connections. The connections are how similar each article's content(text-embeddings) are to one another. We can color-code each node with their respective subtopic and see how the subtopics look in relation to the connections. I.e. are most nodes(articles) of the same color (subtopic) mostly connected? And are there some nodes that are connected to many other nodes with different colors(subtopics)?\n"
      ]
    },
    {
      "cell_type": "markdown",
      "metadata": {
        "id": "2Ml0Wu5HwF4-"
      },
      "source": [
        "## Install PyTorch"
      ]
    },
    {
      "cell_type": "code",
      "execution_count": 1,
      "metadata": {
        "colab": {
          "base_uri": "https://localhost:8080/"
        },
        "id": "m4fun1w-vyVn",
        "outputId": "d870caab-68fe-4d48-e52d-61652f8e1329"
      },
      "outputs": [
        {
          "name": "stderr",
          "output_type": "stream",
          "text": [
            "/home/datares/.conda/envs/group3_downdate_3/lib/python3.9/site-packages/tqdm/auto.py:21: TqdmWarning: IProgress not found. Please update jupyter and ipywidgets. See https://ipywidgets.readthedocs.io/en/stable/user_install.html\n",
            "  from .autonotebook import tqdm as notebook_tqdm\n"
          ]
        },
        {
          "name": "stdout",
          "output_type": "stream",
          "text": [
            "Torch geometric version:  2.1.0\n",
            "Torch version:  1.12.1\n",
            "Done.\n"
          ]
        }
      ],
      "source": [
        "import torch\n",
        "import torch_geometric\n",
        "print(\"Torch geometric version: \", torch_geometric.__version__)\n",
        "torch_version = torch.__version__\n",
        "print(\"Torch version: \", torch_version)\n",
        "pytorch_version = f\"torch-{torch.__version__}.html\"\n",
        "print(\"Done.\")"
      ]
    },
    {
      "cell_type": "markdown",
      "metadata": {
        "id": "9aZYMGpEwaP3"
      },
      "source": [
        "## Import WikiCS Dataset"
      ]
    },
    {
      "cell_type": "code",
      "execution_count": 2,
      "metadata": {
        "colab": {
          "base_uri": "https://localhost:8080/"
        },
        "id": "RexCzozWwavT",
        "outputId": "aef034f4-801a-49b6-9f3f-47cae36a91bf"
      },
      "outputs": [
        {
          "name": "stderr",
          "output_type": "stream",
          "text": [
            "/home/datares/.conda/envs/group3_downdate_3/lib/python3.9/site-packages/torch_geometric/datasets/wikics.py:38: UserWarning: The WikiCS dataset now returns an undirected graph by default. Please explicitly specify 'is_undirected=False' to restore the old behaviour.\n",
            "  warnings.warn(\n"
          ]
        },
        {
          "data": {
            "text/plain": [
              "Data(x=[11701, 300], edge_index=[2, 431726], y=[11701], train_mask=[11701, 20], val_mask=[11701, 20], test_mask=[11701], stopping_mask=[11701, 20])"
            ]
          },
          "execution_count": 2,
          "metadata": {},
          "output_type": "execute_result"
        }
      ],
      "source": [
        "from torch_geometric.datasets import WikiCS\n",
        "# Dataset source: https://github.com/pmernyei/wiki-cs-dataset\n",
        "graph = WikiCS(root=\".\")[0]\n",
        "graph"
      ]
    },
    {
      "cell_type": "code",
      "execution_count": 3,
      "metadata": {
        "colab": {
          "base_uri": "https://localhost:8080/",
          "height": 337
        },
        "id": "qk5zopbL4wQi",
        "outputId": "46ea2778-1064-47d1-d6b1-8d7c47ebc39c"
      },
      "outputs": [
        {
          "data": {
            "text/plain": [
              "<Axes: ylabel='Frequency'>"
            ]
          },
          "execution_count": 3,
          "metadata": {},
          "output_type": "execute_result"
        },
        {
          "data": {
            "image/png": "[encoded data removed]",
            "text/plain": [
              "<Figure size 500x500 with 1 Axes>"
            ]
          },
          "metadata": {},
          "output_type": "display_data"
        }
      ],
      "source": [
        "import pandas as pd\n",
        "from pylab import rcParams\n",
        "rcParams['figure.figsize'] = 5, 5\n",
        "df = pd.DataFrame(graph.y.numpy(), columns=[\"CS_Topics\"])\n",
        "df['CS_Topics'].plot(kind='hist')"
      ]
    },
    {
      "cell_type": "markdown",
      "metadata": {
        "id": "slOgmKK44WWt"
      },
      "source": [
        "## Topic Classification Model (Can we predict the CS-topic based on the article's content)"
      ]
    },
    {
      "cell_type": "markdown",
      "metadata": {
        "id": "T7CjR3_xAQj3"
      },
      "source": [
        "When passing through GCN and Linear layer we reduce tensor sizes to lessen processing load"
      ]
    },
    {
      "cell_type": "code",
      "execution_count": 4,
      "metadata": {
        "colab": {
          "base_uri": "https://localhost:8080/"
        },
        "id": "YSkwkVYBCz0g",
        "outputId": "8572f1e9-3fa8-424c-85c3-550fd1353ec6"
      },
      "outputs": [
        {
          "name": "stdout",
          "output_type": "stream",
          "text": [
            "GNN(\n",
            "  (initial_conv): GATConv(300, 1024, heads=1)\n",
            "  (conv1): GATConv(1024, 1024, heads=1)\n",
            "  (fc): Linear(in_features=1024, out_features=10, bias=True)\n",
            "  (out): Softmax(dim=None)\n",
            ")\n",
            "Number of parameters:  1372170\n"
          ]
        }
      ],
      "source": [
        "from torch.nn import Linear\n",
        "import torch.nn.functional as F \n",
        "from torch_geometric.nn import GATConv\n",
        "embedding_size = 1024\n",
        "\n",
        "class GNN(torch.nn.Module):\n",
        "    def __init__(in_graph):\n",
        "        # Init parent\n",
        "        super(GNN, in_graph).__init__()\n",
        "\n",
        "        # GCN layers\n",
        "        in_graph.initial_conv = GATConv(graph.num_features, embedding_size)\n",
        "        in_graph.conv1 = GATConv(embedding_size, embedding_size)\n",
        "\n",
        "        # Output layer\n",
        "        in_graph.fc = Linear(embedding_size, 10)\n",
        "        in_graph.out = torch.nn.Softmax()\n",
        "        # in_graph.explainer_config = ('model',\n",
        "        #     'attributes',\n",
        "        #     'object')\n",
        "        # in_graph.model_config = ('classification',\n",
        "        #     'node',\n",
        "        #     'log_probs'  # Model returns log probabilities.\n",
        "        # )\n",
        "\n",
        "    def forward(in_graph, x, edge_index):\n",
        "        emb = F.relu(in_graph.initial_conv(x, edge_index))\n",
        "        emb = F.relu(in_graph.conv1(emb, edge_index))\n",
        "\n",
        "        return in_graph.out(in_graph.fc(emb))\n",
        "    \n",
        "\n",
        "model = GNN()\n",
        "print(model)\n",
        "print(\"Number of parameters: \", sum(p.numel() for p in model.parameters()))"
      ]
    },
    {
      "cell_type": "markdown",
      "metadata": {
        "id": "Id5v-kcu4su3"
      },
      "source": [
        "## Model Training"
      ]
    },
    {
      "cell_type": "code",
      "execution_count": 6,
      "metadata": {
        "colab": {
          "base_uri": "https://localhost:8080/"
        },
        "id": "a03_4dpf-cuF",
        "outputId": "47df9ea9-7257-4361-e3e2-bfcca097f194"
      },
      "outputs": [
        {
          "name": "stderr",
          "output_type": "stream",
          "text": [
            "/home/datares/Group3/model.py:36: UserWarning: Implicit dimension choice for softmax has been deprecated. Change the call to include dim=X as an argument.\n",
            "  return in_graph.out(in_graph.fc(emb))\n"
          ]
        },
        {
          "name": "stdout",
          "output_type": "stream",
          "text": [
            "Epoch: 000, Val loss: 2.3023 | Train loss: 2.3032\n",
            "Epoch: 100, Val loss: 1.9952 | Train loss: 1.9932\n",
            "Epoch: 200, Val loss: 1.9472 | Train loss: 1.9365\n",
            "Epoch: 300, Val loss: 1.8799 | Train loss: 1.8700\n",
            "Epoch: 400, Val loss: 1.8455 | Train loss: 1.8271\n",
            "Epoch: 500, Val loss: 1.8400 | Train loss: 1.8170\n",
            "Epoch: 600, Val loss: 1.8377 | Train loss: 1.8100\n",
            "Epoch: 700, Val loss: 1.8370 | Train loss: 1.8048\n"
          ]
        }
      ],
      "source": [
        "# Use GPU for training\n",
        "from model import GCN, GAT\n",
        "device = torch.device(\"cuda:0\" if torch.cuda.is_available() else \"cpu\")\n",
        "model = GCN()\n",
        "model = model.to(device)\n",
        "graph = graph.to(device)\n",
        "\n",
        "# Loss function\n",
        "loss_fn = torch.nn.CrossEntropyLoss()\n",
        "optimizer = torch.optim.Adam(model.parameters(), lr=0.0001)  \n",
        "\n",
        "\n",
        "def train(train_mask, model):\n",
        "      model.train()\n",
        "      optimizer.zero_grad() \n",
        "      out = model.forward(graph.x, graph.edge_index)  \n",
        "      preds = out[train_mask]\n",
        "      targets = graph.y[train_mask]\n",
        "      loss = loss_fn(preds, targets)  \n",
        "      loss.backward() \n",
        "      optimizer.step()\n",
        "      return loss\n",
        "\n",
        "def test(test_mask, model):\n",
        "      model.eval()\n",
        "      optimizer.zero_grad() \n",
        "      out = model(graph.x, graph.edge_index)  \n",
        "      preds = out[test_mask]\n",
        "      targets = graph.y[test_mask]\n",
        "      loss = loss_fn(preds, targets)  \n",
        "      return loss\n",
        "\n",
        "\n",
        "\n",
        "for epoch in range(0, 800):\n",
        "    tr_loss = train(graph.train_mask[:,0], model)\n",
        "    if epoch % 100 == 0:\n",
        "      loss = test(graph.val_mask[:,0], model)\n",
        "      print(f'Epoch: {epoch:03d}, Val loss: {loss:.4f} | Train loss: {tr_loss:.4f}')\n"
      ]
    },
    {
      "cell_type": "code",
      "execution_count": 7,
      "metadata": {
        "colab": {
          "base_uri": "https://localhost:8080/"
        },
        "id": "nQxt6xE5K82r",
        "outputId": "511af698-a334-4458-dd16-376690e7865b"
      },
      "outputs": [
        {
          "name": "stdout",
          "output_type": "stream",
          "text": [
            "accuracy =  tensor(0.6133, device='cuda:0')\n"
          ]
        }
      ],
      "source": [
        "preds = model.forward(graph.x, graph.edge_index)\n",
        "import torchmetrics\n",
        "accuracy = torchmetrics.Accuracy(task=\"multiclass\", num_classes=10, top_k=1).to(device)\n",
        "print(\"accuracy = \", accuracy(preds[graph.test_mask], graph.y.to(device)[graph.test_mask]))"
      ]
    },
    {
      "cell_type": "markdown",
      "metadata": {
        "id": "ouPETidG464Z"
      },
      "source": [
        "## Explaining the Predictions (Only here do we use GNNExplainer)"
      ]
    },
    {
      "attachments": {},
      "cell_type": "markdown",
      "metadata": {},
      "source": [
        "(links: https://pytorch-geometric.readthedocs.io/en/latest/tutorial/explain.html\n",
        "https://pytorch-geometric.readthedocs.io/en/latest/modules/explain.html#torch_geometric.explain.Explainer)"
      ]
    },
    {
      "cell_type": "code",
      "execution_count": 9,
      "metadata": {
        "colab": {
          "base_uri": "https://localhost:8080/"
        },
        "id": "2PnTQLJsP8ol",
        "outputId": "95f637bb-3307-474c-c1ad-d3a515b2992e"
      },
      "outputs": [
        {
          "name": "stderr",
          "output_type": "stream",
          "text": [
            "Explain node 69: 100%|██████████| 200/200 [00:12<00:00, 16.51it/s]\n"
          ]
        },
        {
          "name": "stdout",
          "output_type": "stream",
          "text": [
            "Size of explanation:  tensor(274877, device='cuda:0')\n"
          ]
        }
      ],
      "source": [
        "from torch_geometric.nn import GNNExplainer\n",
        "# Initialize explainer\n",
        "explainer = GNNExplainer(model, epochs=200, return_type='prob')\n",
        "\n",
        "# Explain node\n",
        "node_idx = 69\n",
        "node_feat_mask, edge_mask = explainer.explain_node(node_idx, graph.x, graph.edge_index)\n",
        "print(\"Size of explanation: \", sum(edge_mask > 0))"
      ]
    },
    {
      "cell_type": "code",
      "execution_count": null,
      "metadata": {},
      "outputs": [],
      "source": []
    },
    {
      "cell_type": "code",
      "execution_count": 10,
      "metadata": {},
      "outputs": [
        {
          "name": "stdout",
          "output_type": "stream",
          "text": [
            "torch.Size([300])\n",
            "torch.Size([431726])\n"
          ]
        }
      ],
      "source": [
        "# Show shape of masks\n",
        "print(node_feat_mask.shape)\n",
        "print(edge_mask.shape)"
      ]
    },
    {
      "cell_type": "code",
      "execution_count": 20,
      "metadata": {},
      "outputs": [
        {
          "ename": "KeyboardInterrupt",
          "evalue": "",
          "output_type": "error",
          "traceback": [
            "\u001b[0;31m---------------------------------------------------------------------------\u001b[0m",
            "\u001b[0;31mKeyboardInterrupt\u001b[0m                         Traceback (most recent call last)",
            "Cell \u001b[0;32mIn[20], line 7\u001b[0m\n\u001b[1;32m      5\u001b[0m \u001b[39m# Visualize result\u001b[39;00m\n\u001b[1;32m      6\u001b[0m ax, G \u001b[39m=\u001b[39m explainer\u001b[39m.\u001b[39mvisualize_subgraph(node_idx, graph\u001b[39m.\u001b[39medge_index, edge_mask, y\u001b[39m=\u001b[39mgraph\u001b[39m.\u001b[39my)\n\u001b[0;32m----> 7\u001b[0m plt\u001b[39m.\u001b[39;49mshow()\n",
            "File \u001b[0;32m~/.conda/envs/group3_downdate_3/lib/python3.9/site-packages/matplotlib/pyplot.py:446\u001b[0m, in \u001b[0;36mshow\u001b[0;34m(*args, **kwargs)\u001b[0m\n\u001b[1;32m    402\u001b[0m \u001b[39m\u001b[39m\u001b[39m\"\"\"\u001b[39;00m\n\u001b[1;32m    403\u001b[0m \u001b[39mDisplay all open figures.\u001b[39;00m\n\u001b[1;32m    404\u001b[0m \n\u001b[0;32m   (...)\u001b[0m\n\u001b[1;32m    443\u001b[0m \u001b[39mexplicitly there.\u001b[39;00m\n\u001b[1;32m    444\u001b[0m \u001b[39m\"\"\"\u001b[39;00m\n\u001b[1;32m    445\u001b[0m _warn_if_gui_out_of_main_thread()\n\u001b[0;32m--> 446\u001b[0m \u001b[39mreturn\u001b[39;00m _get_backend_mod()\u001b[39m.\u001b[39;49mshow(\u001b[39m*\u001b[39;49margs, \u001b[39m*\u001b[39;49m\u001b[39m*\u001b[39;49mkwargs)\n",
            "File \u001b[0;32m~/.conda/envs/group3_downdate_3/lib/python3.9/site-packages/matplotlib_inline/backend_inline.py:90\u001b[0m, in \u001b[0;36mshow\u001b[0;34m(close, block)\u001b[0m\n\u001b[1;32m     88\u001b[0m \u001b[39mtry\u001b[39;00m:\n\u001b[1;32m     89\u001b[0m     \u001b[39mfor\u001b[39;00m figure_manager \u001b[39min\u001b[39;00m Gcf\u001b[39m.\u001b[39mget_all_fig_managers():\n\u001b[0;32m---> 90\u001b[0m         display(\n\u001b[1;32m     91\u001b[0m             figure_manager\u001b[39m.\u001b[39;49mcanvas\u001b[39m.\u001b[39;49mfigure,\n\u001b[1;32m     92\u001b[0m             metadata\u001b[39m=\u001b[39;49m_fetch_figure_metadata(figure_manager\u001b[39m.\u001b[39;49mcanvas\u001b[39m.\u001b[39;49mfigure)\n\u001b[1;32m     93\u001b[0m         )\n\u001b[1;32m     94\u001b[0m \u001b[39mfinally\u001b[39;00m:\n\u001b[1;32m     95\u001b[0m     show\u001b[39m.\u001b[39m_to_draw \u001b[39m=\u001b[39m []\n",
            "File \u001b[0;32m~/.conda/envs/group3_downdate_3/lib/python3.9/site-packages/IPython/core/display_functions.py:298\u001b[0m, in \u001b[0;36mdisplay\u001b[0;34m(include, exclude, metadata, transient, display_id, raw, clear, *objs, **kwargs)\u001b[0m\n\u001b[1;32m    296\u001b[0m     publish_display_data(data\u001b[39m=\u001b[39mobj, metadata\u001b[39m=\u001b[39mmetadata, \u001b[39m*\u001b[39m\u001b[39m*\u001b[39mkwargs)\n\u001b[1;32m    297\u001b[0m \u001b[39melse\u001b[39;00m:\n\u001b[0;32m--> 298\u001b[0m     format_dict, md_dict \u001b[39m=\u001b[39m \u001b[39mformat\u001b[39;49m(obj, include\u001b[39m=\u001b[39;49minclude, exclude\u001b[39m=\u001b[39;49mexclude)\n\u001b[1;32m    299\u001b[0m     \u001b[39mif\u001b[39;00m \u001b[39mnot\u001b[39;00m format_dict:\n\u001b[1;32m    300\u001b[0m         \u001b[39m# nothing to display (e.g. _ipython_display_ took over)\u001b[39;00m\n\u001b[1;32m    301\u001b[0m         \u001b[39mcontinue\u001b[39;00m\n",
            "File \u001b[0;32m~/.conda/envs/group3_downdate_3/lib/python3.9/site-packages/IPython/core/formatters.py:177\u001b[0m, in \u001b[0;36mDisplayFormatter.format\u001b[0;34m(self, obj, include, exclude)\u001b[0m\n\u001b[1;32m    175\u001b[0m md \u001b[39m=\u001b[39m \u001b[39mNone\u001b[39;00m\n\u001b[1;32m    176\u001b[0m \u001b[39mtry\u001b[39;00m:\n\u001b[0;32m--> 177\u001b[0m     data \u001b[39m=\u001b[39m formatter(obj)\n\u001b[1;32m    178\u001b[0m \u001b[39mexcept\u001b[39;00m:\n\u001b[1;32m    179\u001b[0m     \u001b[39m# FIXME: log the exception\u001b[39;00m\n\u001b[1;32m    180\u001b[0m     \u001b[39mraise\u001b[39;00m\n",
            "File \u001b[0;32m~/.conda/envs/group3_downdate_3/lib/python3.9/site-packages/decorator.py:232\u001b[0m, in \u001b[0;36mdecorate.<locals>.fun\u001b[0;34m(*args, **kw)\u001b[0m\n\u001b[1;32m    230\u001b[0m \u001b[39mif\u001b[39;00m \u001b[39mnot\u001b[39;00m kwsyntax:\n\u001b[1;32m    231\u001b[0m     args, kw \u001b[39m=\u001b[39m fix(args, kw, sig)\n\u001b[0;32m--> 232\u001b[0m \u001b[39mreturn\u001b[39;00m caller(func, \u001b[39m*\u001b[39;49m(extras \u001b[39m+\u001b[39;49m args), \u001b[39m*\u001b[39;49m\u001b[39m*\u001b[39;49mkw)\n",
            "File \u001b[0;32m~/.conda/envs/group3_downdate_3/lib/python3.9/site-packages/IPython/core/formatters.py:221\u001b[0m, in \u001b[0;36mcatch_format_error\u001b[0;34m(method, self, *args, **kwargs)\u001b[0m\n\u001b[1;32m    219\u001b[0m \u001b[39m\u001b[39m\u001b[39m\"\"\"show traceback on failed format call\"\"\"\u001b[39;00m\n\u001b[1;32m    220\u001b[0m \u001b[39mtry\u001b[39;00m:\n\u001b[0;32m--> 221\u001b[0m     r \u001b[39m=\u001b[39m method(\u001b[39mself\u001b[39;49m, \u001b[39m*\u001b[39;49margs, \u001b[39m*\u001b[39;49m\u001b[39m*\u001b[39;49mkwargs)\n\u001b[1;32m    222\u001b[0m \u001b[39mexcept\u001b[39;00m \u001b[39mNotImplementedError\u001b[39;00m:\n\u001b[1;32m    223\u001b[0m     \u001b[39m# don't warn on NotImplementedErrors\u001b[39;00m\n\u001b[1;32m    224\u001b[0m     \u001b[39mreturn\u001b[39;00m \u001b[39mself\u001b[39m\u001b[39m.\u001b[39m_check_return(\u001b[39mNone\u001b[39;00m, args[\u001b[39m0\u001b[39m])\n",
            "File \u001b[0;32m~/.conda/envs/group3_downdate_3/lib/python3.9/site-packages/IPython/core/formatters.py:338\u001b[0m, in \u001b[0;36mBaseFormatter.__call__\u001b[0;34m(self, obj)\u001b[0m\n\u001b[1;32m    336\u001b[0m     \u001b[39mpass\u001b[39;00m\n\u001b[1;32m    337\u001b[0m \u001b[39melse\u001b[39;00m:\n\u001b[0;32m--> 338\u001b[0m     \u001b[39mreturn\u001b[39;00m printer(obj)\n\u001b[1;32m    339\u001b[0m \u001b[39m# Finally look for special method names\u001b[39;00m\n\u001b[1;32m    340\u001b[0m method \u001b[39m=\u001b[39m get_real_method(obj, \u001b[39mself\u001b[39m\u001b[39m.\u001b[39mprint_method)\n",
            "File \u001b[0;32m~/.conda/envs/group3_downdate_3/lib/python3.9/site-packages/IPython/core/pylabtools.py:152\u001b[0m, in \u001b[0;36mprint_figure\u001b[0;34m(fig, fmt, bbox_inches, base64, **kwargs)\u001b[0m\n\u001b[1;32m    149\u001b[0m     \u001b[39mfrom\u001b[39;00m \u001b[39mmatplotlib\u001b[39;00m\u001b[39m.\u001b[39;00m\u001b[39mbackend_bases\u001b[39;00m \u001b[39mimport\u001b[39;00m FigureCanvasBase\n\u001b[1;32m    150\u001b[0m     FigureCanvasBase(fig)\n\u001b[0;32m--> 152\u001b[0m fig\u001b[39m.\u001b[39;49mcanvas\u001b[39m.\u001b[39;49mprint_figure(bytes_io, \u001b[39m*\u001b[39;49m\u001b[39m*\u001b[39;49mkw)\n\u001b[1;32m    153\u001b[0m data \u001b[39m=\u001b[39m bytes_io\u001b[39m.\u001b[39mgetvalue()\n\u001b[1;32m    154\u001b[0m \u001b[39mif\u001b[39;00m fmt \u001b[39m==\u001b[39m \u001b[39m'\u001b[39m\u001b[39msvg\u001b[39m\u001b[39m'\u001b[39m:\n",
            "File \u001b[0;32m~/.conda/envs/group3_downdate_3/lib/python3.9/site-packages/matplotlib/backend_bases.py:2346\u001b[0m, in \u001b[0;36mFigureCanvasBase.print_figure\u001b[0;34m(self, filename, dpi, facecolor, edgecolor, orientation, format, bbox_inches, pad_inches, bbox_extra_artists, backend, **kwargs)\u001b[0m\n\u001b[1;32m   2344\u001b[0m \u001b[39mif\u001b[39;00m bbox_inches:\n\u001b[1;32m   2345\u001b[0m     \u001b[39mif\u001b[39;00m bbox_inches \u001b[39m==\u001b[39m \u001b[39m\"\u001b[39m\u001b[39mtight\u001b[39m\u001b[39m\"\u001b[39m:\n\u001b[0;32m-> 2346\u001b[0m         bbox_inches \u001b[39m=\u001b[39m \u001b[39mself\u001b[39;49m\u001b[39m.\u001b[39;49mfigure\u001b[39m.\u001b[39;49mget_tightbbox(\n\u001b[1;32m   2347\u001b[0m             renderer, bbox_extra_artists\u001b[39m=\u001b[39;49mbbox_extra_artists)\n\u001b[1;32m   2348\u001b[0m         \u001b[39mif\u001b[39;00m pad_inches \u001b[39mis\u001b[39;00m \u001b[39mNone\u001b[39;00m:\n\u001b[1;32m   2349\u001b[0m             pad_inches \u001b[39m=\u001b[39m rcParams[\u001b[39m'\u001b[39m\u001b[39msavefig.pad_inches\u001b[39m\u001b[39m'\u001b[39m]\n",
            "File \u001b[0;32m~/.conda/envs/group3_downdate_3/lib/python3.9/site-packages/matplotlib/figure.py:1753\u001b[0m, in \u001b[0;36mFigureBase.get_tightbbox\u001b[0;34m(self, renderer, bbox_extra_artists)\u001b[0m\n\u001b[1;32m   1749\u001b[0m \u001b[39mif\u001b[39;00m ax\u001b[39m.\u001b[39mget_visible():\n\u001b[1;32m   1750\u001b[0m     \u001b[39m# some axes don't take the bbox_extra_artists kwarg so we\u001b[39;00m\n\u001b[1;32m   1751\u001b[0m     \u001b[39m# need this conditional....\u001b[39;00m\n\u001b[1;32m   1752\u001b[0m     \u001b[39mtry\u001b[39;00m:\n\u001b[0;32m-> 1753\u001b[0m         bbox \u001b[39m=\u001b[39m ax\u001b[39m.\u001b[39;49mget_tightbbox(\n\u001b[1;32m   1754\u001b[0m             renderer, bbox_extra_artists\u001b[39m=\u001b[39;49mbbox_extra_artists)\n\u001b[1;32m   1755\u001b[0m     \u001b[39mexcept\u001b[39;00m \u001b[39mTypeError\u001b[39;00m:\n\u001b[1;32m   1756\u001b[0m         bbox \u001b[39m=\u001b[39m ax\u001b[39m.\u001b[39mget_tightbbox(renderer)\n",
            "File \u001b[0;32m~/.conda/envs/group3_downdate_3/lib/python3.9/site-packages/matplotlib/axes/_base.py:4408\u001b[0m, in \u001b[0;36m_AxesBase.get_tightbbox\u001b[0;34m(self, renderer, call_axes_locator, bbox_extra_artists, for_layout_only)\u001b[0m\n\u001b[1;32m   4405\u001b[0m     bbox_artists \u001b[39m=\u001b[39m \u001b[39mself\u001b[39m\u001b[39m.\u001b[39mget_default_bbox_extra_artists()\n\u001b[1;32m   4407\u001b[0m \u001b[39mfor\u001b[39;00m a \u001b[39min\u001b[39;00m bbox_artists:\n\u001b[0;32m-> 4408\u001b[0m     bbox \u001b[39m=\u001b[39m a\u001b[39m.\u001b[39;49mget_tightbbox(renderer)\n\u001b[1;32m   4409\u001b[0m     \u001b[39mif\u001b[39;00m (bbox \u001b[39mis\u001b[39;00m \u001b[39mnot\u001b[39;00m \u001b[39mNone\u001b[39;00m\n\u001b[1;32m   4410\u001b[0m             \u001b[39mand\u001b[39;00m \u001b[39m0\u001b[39m \u001b[39m<\u001b[39m bbox\u001b[39m.\u001b[39mwidth \u001b[39m<\u001b[39m np\u001b[39m.\u001b[39minf\n\u001b[1;32m   4411\u001b[0m             \u001b[39mand\u001b[39;00m \u001b[39m0\u001b[39m \u001b[39m<\u001b[39m bbox\u001b[39m.\u001b[39mheight \u001b[39m<\u001b[39m np\u001b[39m.\u001b[39minf):\n\u001b[1;32m   4412\u001b[0m         bb\u001b[39m.\u001b[39mappend(bbox)\n",
            "File \u001b[0;32m~/.conda/envs/group3_downdate_3/lib/python3.9/site-packages/matplotlib/text.py:2064\u001b[0m, in \u001b[0;36mAnnotation.get_tightbbox\u001b[0;34m(self, renderer)\u001b[0m\n\u001b[1;32m   2062\u001b[0m \u001b[39mif\u001b[39;00m \u001b[39mnot\u001b[39;00m \u001b[39mself\u001b[39m\u001b[39m.\u001b[39m_check_xy(renderer):\n\u001b[1;32m   2063\u001b[0m     \u001b[39mreturn\u001b[39;00m Bbox\u001b[39m.\u001b[39mnull()\n\u001b[0;32m-> 2064\u001b[0m \u001b[39mreturn\u001b[39;00m \u001b[39msuper\u001b[39;49m()\u001b[39m.\u001b[39;49mget_tightbbox(renderer)\n",
            "File \u001b[0;32m~/.conda/envs/group3_downdate_3/lib/python3.9/site-packages/matplotlib/artist.py:367\u001b[0m, in \u001b[0;36mArtist.get_tightbbox\u001b[0;34m(self, renderer)\u001b[0m\n\u001b[1;32m    352\u001b[0m \u001b[39mdef\u001b[39;00m \u001b[39mget_tightbbox\u001b[39m(\u001b[39mself\u001b[39m, renderer\u001b[39m=\u001b[39m\u001b[39mNone\u001b[39;00m):\n\u001b[1;32m    353\u001b[0m \u001b[39m    \u001b[39m\u001b[39m\"\"\"\u001b[39;00m\n\u001b[1;32m    354\u001b[0m \u001b[39m    Like `.Artist.get_window_extent`, but includes any clipping.\u001b[39;00m\n\u001b[1;32m    355\u001b[0m \n\u001b[0;32m   (...)\u001b[0m\n\u001b[1;32m    365\u001b[0m \u001b[39m        The enclosing bounding box (in figure pixel coordinates).\u001b[39;00m\n\u001b[1;32m    366\u001b[0m \u001b[39m    \"\"\"\u001b[39;00m\n\u001b[0;32m--> 367\u001b[0m     bbox \u001b[39m=\u001b[39m \u001b[39mself\u001b[39;49m\u001b[39m.\u001b[39;49mget_window_extent(renderer)\n\u001b[1;32m    368\u001b[0m     \u001b[39mif\u001b[39;00m \u001b[39mself\u001b[39m\u001b[39m.\u001b[39mget_clip_on():\n\u001b[1;32m    369\u001b[0m         clip_box \u001b[39m=\u001b[39m \u001b[39mself\u001b[39m\u001b[39m.\u001b[39mget_clip_box()\n",
            "File \u001b[0;32m~/.conda/envs/group3_downdate_3/lib/python3.9/site-packages/matplotlib/text.py:2056\u001b[0m, in \u001b[0;36mAnnotation.get_window_extent\u001b[0;34m(self, renderer)\u001b[0m\n\u001b[1;32m   2053\u001b[0m bboxes \u001b[39m=\u001b[39m [text_bbox]\n\u001b[1;32m   2055\u001b[0m \u001b[39mif\u001b[39;00m \u001b[39mself\u001b[39m\u001b[39m.\u001b[39marrow_patch \u001b[39mis\u001b[39;00m \u001b[39mnot\u001b[39;00m \u001b[39mNone\u001b[39;00m:\n\u001b[0;32m-> 2056\u001b[0m     bboxes\u001b[39m.\u001b[39mappend(\u001b[39mself\u001b[39;49m\u001b[39m.\u001b[39;49marrow_patch\u001b[39m.\u001b[39;49mget_window_extent())\n\u001b[1;32m   2058\u001b[0m \u001b[39mreturn\u001b[39;00m Bbox\u001b[39m.\u001b[39munion(bboxes)\n",
            "File \u001b[0;32m~/.conda/envs/group3_downdate_3/lib/python3.9/site-packages/matplotlib/patches.py:604\u001b[0m, in \u001b[0;36mPatch.get_window_extent\u001b[0;34m(self, renderer)\u001b[0m\n\u001b[1;32m    603\u001b[0m \u001b[39mdef\u001b[39;00m \u001b[39mget_window_extent\u001b[39m(\u001b[39mself\u001b[39m, renderer\u001b[39m=\u001b[39m\u001b[39mNone\u001b[39;00m):\n\u001b[0;32m--> 604\u001b[0m     \u001b[39mreturn\u001b[39;00m \u001b[39mself\u001b[39;49m\u001b[39m.\u001b[39;49mget_path()\u001b[39m.\u001b[39mget_extents(\u001b[39mself\u001b[39m\u001b[39m.\u001b[39mget_transform())\n",
            "File \u001b[0;32m~/.conda/envs/group3_downdate_3/lib/python3.9/site-packages/matplotlib/patches.py:4314\u001b[0m, in \u001b[0;36mFancyArrowPatch.get_path\u001b[0;34m(self)\u001b[0m\n\u001b[1;32m   4311\u001b[0m \u001b[39m\u001b[39m\u001b[39m\"\"\"Return the path of the arrow in the data coordinates.\"\"\"\u001b[39;00m\n\u001b[1;32m   4312\u001b[0m \u001b[39m# The path is generated in display coordinates, then converted back to\u001b[39;00m\n\u001b[1;32m   4313\u001b[0m \u001b[39m# data coordinates.\u001b[39;00m\n\u001b[0;32m-> 4314\u001b[0m _path, fillable \u001b[39m=\u001b[39m \u001b[39mself\u001b[39;49m\u001b[39m.\u001b[39;49m_get_path_in_displaycoord()\n\u001b[1;32m   4315\u001b[0m \u001b[39mif\u001b[39;00m np\u001b[39m.\u001b[39miterable(fillable):\n\u001b[1;32m   4316\u001b[0m     _path \u001b[39m=\u001b[39m Path\u001b[39m.\u001b[39mmake_compound_path(\u001b[39m*\u001b[39m_path)\n",
            "File \u001b[0;32m~/.conda/envs/group3_downdate_3/lib/python3.9/site-packages/matplotlib/patches.py:4327\u001b[0m, in \u001b[0;36mFancyArrowPatch._get_path_in_displaycoord\u001b[0;34m(self)\u001b[0m\n\u001b[1;32m   4325\u001b[0m     posB \u001b[39m=\u001b[39m \u001b[39mself\u001b[39m\u001b[39m.\u001b[39m_convert_xy_units(\u001b[39mself\u001b[39m\u001b[39m.\u001b[39m_posA_posB[\u001b[39m1\u001b[39m])\n\u001b[1;32m   4326\u001b[0m     (posA, posB) \u001b[39m=\u001b[39m \u001b[39mself\u001b[39m\u001b[39m.\u001b[39mget_transform()\u001b[39m.\u001b[39mtransform((posA, posB))\n\u001b[0;32m-> 4327\u001b[0m     _path \u001b[39m=\u001b[39m \u001b[39mself\u001b[39;49m\u001b[39m.\u001b[39;49mget_connectionstyle()(posA, posB,\n\u001b[1;32m   4328\u001b[0m                                        patchA\u001b[39m=\u001b[39;49m\u001b[39mself\u001b[39;49m\u001b[39m.\u001b[39;49mpatchA,\n\u001b[1;32m   4329\u001b[0m                                        patchB\u001b[39m=\u001b[39;49m\u001b[39mself\u001b[39;49m\u001b[39m.\u001b[39;49mpatchB,\n\u001b[1;32m   4330\u001b[0m                                        shrinkA\u001b[39m=\u001b[39;49m\u001b[39mself\u001b[39;49m\u001b[39m.\u001b[39;49mshrinkA \u001b[39m*\u001b[39;49m dpi_cor,\n\u001b[1;32m   4331\u001b[0m                                        shrinkB\u001b[39m=\u001b[39;49m\u001b[39mself\u001b[39;49m\u001b[39m.\u001b[39;49mshrinkB \u001b[39m*\u001b[39;49m dpi_cor\n\u001b[1;32m   4332\u001b[0m                                        )\n\u001b[1;32m   4333\u001b[0m \u001b[39melse\u001b[39;00m:\n\u001b[1;32m   4334\u001b[0m     _path \u001b[39m=\u001b[39m \u001b[39mself\u001b[39m\u001b[39m.\u001b[39mget_transform()\u001b[39m.\u001b[39mtransform_path(\u001b[39mself\u001b[39m\u001b[39m.\u001b[39m_path_original)\n",
            "File \u001b[0;32m~/.conda/envs/group3_downdate_3/lib/python3.9/site-packages/matplotlib/patches.py:2732\u001b[0m, in \u001b[0;36mConnectionStyle._Base.__call__\u001b[0;34m(self, posA, posB, shrinkA, shrinkB, patchA, patchB)\u001b[0m\n\u001b[1;32m   2726\u001b[0m path \u001b[39m=\u001b[39m \u001b[39mself\u001b[39m\u001b[39m.\u001b[39mconnect(posA, posB)\n\u001b[1;32m   2727\u001b[0m path \u001b[39m=\u001b[39m \u001b[39mself\u001b[39m\u001b[39m.\u001b[39m_clip(\n\u001b[1;32m   2728\u001b[0m     path,\n\u001b[1;32m   2729\u001b[0m     \u001b[39mself\u001b[39m\u001b[39m.\u001b[39m_in_patch(patchA) \u001b[39mif\u001b[39;00m patchA \u001b[39melse\u001b[39;00m \u001b[39mNone\u001b[39;00m,\n\u001b[1;32m   2730\u001b[0m     \u001b[39mself\u001b[39m\u001b[39m.\u001b[39m_in_patch(patchB) \u001b[39mif\u001b[39;00m patchB \u001b[39melse\u001b[39;00m \u001b[39mNone\u001b[39;00m,\n\u001b[1;32m   2731\u001b[0m )\n\u001b[0;32m-> 2732\u001b[0m path \u001b[39m=\u001b[39m \u001b[39mself\u001b[39;49m\u001b[39m.\u001b[39;49m_clip(\n\u001b[1;32m   2733\u001b[0m     path,\n\u001b[1;32m   2734\u001b[0m     inside_circle(\u001b[39m*\u001b[39;49mpath\u001b[39m.\u001b[39;49mvertices[\u001b[39m0\u001b[39;49m], shrinkA) \u001b[39mif\u001b[39;49;00m shrinkA \u001b[39melse\u001b[39;49;00m \u001b[39mNone\u001b[39;49;00m,\n\u001b[1;32m   2735\u001b[0m     inside_circle(\u001b[39m*\u001b[39;49mpath\u001b[39m.\u001b[39;49mvertices[\u001b[39m-\u001b[39;49m\u001b[39m1\u001b[39;49m], shrinkB) \u001b[39mif\u001b[39;49;00m shrinkB \u001b[39melse\u001b[39;49;00m \u001b[39mNone\u001b[39;49;00m\n\u001b[1;32m   2736\u001b[0m )\n\u001b[1;32m   2737\u001b[0m \u001b[39mreturn\u001b[39;00m path\n",
            "File \u001b[0;32m~/.conda/envs/group3_downdate_3/lib/python3.9/site-packages/matplotlib/patches.py:2715\u001b[0m, in \u001b[0;36mConnectionStyle._Base._clip\u001b[0;34m(self, path, in_start, in_stop)\u001b[0m\n\u001b[1;32m   2713\u001b[0m \u001b[39mif\u001b[39;00m in_stop:\n\u001b[1;32m   2714\u001b[0m     \u001b[39mtry\u001b[39;00m:\n\u001b[0;32m-> 2715\u001b[0m         path, _ \u001b[39m=\u001b[39m split_path_inout(path, in_stop)\n\u001b[1;32m   2716\u001b[0m     \u001b[39mexcept\u001b[39;00m \u001b[39mValueError\u001b[39;00m:\n\u001b[1;32m   2717\u001b[0m         \u001b[39mpass\u001b[39;00m\n",
            "File \u001b[0;32m~/.conda/envs/group3_downdate_3/lib/python3.9/site-packages/matplotlib/bezier.py:370\u001b[0m, in \u001b[0;36msplit_path_inout\u001b[0;34m(path, inside, tolerance, reorder_inout)\u001b[0m\n\u001b[1;32m    367\u001b[0m     \u001b[39mraise\u001b[39;00m \u001b[39mValueError\u001b[39;00m(\u001b[39m\"\u001b[39m\u001b[39mThe path does not intersect with the patch\u001b[39m\u001b[39m\"\u001b[39m)\n\u001b[1;32m    369\u001b[0m bp \u001b[39m=\u001b[39m bezier_path\u001b[39m.\u001b[39mreshape((\u001b[39m-\u001b[39m\u001b[39m1\u001b[39m, \u001b[39m2\u001b[39m))\n\u001b[0;32m--> 370\u001b[0m left, right \u001b[39m=\u001b[39m split_bezier_intersecting_with_closedpath(\n\u001b[1;32m    371\u001b[0m     bp, inside, tolerance)\n\u001b[1;32m    372\u001b[0m \u001b[39mif\u001b[39;00m \u001b[39mlen\u001b[39m(left) \u001b[39m==\u001b[39m \u001b[39m2\u001b[39m:\n\u001b[1;32m    373\u001b[0m     codes_left \u001b[39m=\u001b[39m [Path\u001b[39m.\u001b[39mLINETO]\n",
            "File \u001b[0;32m~/.conda/envs/group3_downdate_3/lib/python3.9/site-packages/matplotlib/bezier.py:333\u001b[0m, in \u001b[0;36msplit_bezier_intersecting_with_closedpath\u001b[0;34m(bezier, inside_closedpath, tolerance)\u001b[0m\n\u001b[1;32m    330\u001b[0m bz \u001b[39m=\u001b[39m BezierSegment(bezier)\n\u001b[1;32m    331\u001b[0m bezier_point_at_t \u001b[39m=\u001b[39m bz\u001b[39m.\u001b[39mpoint_at_t\n\u001b[0;32m--> 333\u001b[0m t0, t1 \u001b[39m=\u001b[39m find_bezier_t_intersecting_with_closedpath(\n\u001b[1;32m    334\u001b[0m     bezier_point_at_t, inside_closedpath, tolerance\u001b[39m=\u001b[39;49mtolerance)\n\u001b[1;32m    336\u001b[0m _left, _right \u001b[39m=\u001b[39m split_de_casteljau(bezier, (t0 \u001b[39m+\u001b[39m t1) \u001b[39m/\u001b[39m \u001b[39m2.\u001b[39m)\n\u001b[1;32m    337\u001b[0m \u001b[39mreturn\u001b[39;00m _left, _right\n",
            "File \u001b[0;32m~/.conda/envs/group3_downdate_3/lib/python3.9/site-packages/matplotlib/bezier.py:169\u001b[0m, in \u001b[0;36mfind_bezier_t_intersecting_with_closedpath\u001b[0;34m(bezier_point_at_t, inside_closedpath, t0, t1, tolerance)\u001b[0m\n\u001b[1;32m    167\u001b[0m \u001b[39m# calculate the middle point\u001b[39;00m\n\u001b[1;32m    168\u001b[0m middle_t \u001b[39m=\u001b[39m \u001b[39m0.5\u001b[39m \u001b[39m*\u001b[39m (t0 \u001b[39m+\u001b[39m t1)\n\u001b[0;32m--> 169\u001b[0m middle \u001b[39m=\u001b[39m bezier_point_at_t(middle_t)\n\u001b[1;32m    170\u001b[0m middle_inside \u001b[39m=\u001b[39m inside_closedpath(middle)\n\u001b[1;32m    172\u001b[0m \u001b[39mif\u001b[39;00m start_inside \u001b[39m^\u001b[39m middle_inside:\n",
            "File \u001b[0;32m~/.conda/envs/group3_downdate_3/lib/python3.9/site-packages/matplotlib/bezier.py:222\u001b[0m, in \u001b[0;36mBezierSegment.point_at_t\u001b[0;34m(self, t)\u001b[0m\n\u001b[1;32m    218\u001b[0m \u001b[39mdef\u001b[39;00m \u001b[39mpoint_at_t\u001b[39m(\u001b[39mself\u001b[39m, t):\n\u001b[1;32m    219\u001b[0m \u001b[39m    \u001b[39m\u001b[39m\"\"\"\u001b[39;00m\n\u001b[1;32m    220\u001b[0m \u001b[39m    Evaluate the curve at a single point, returning a tuple of *d* floats.\u001b[39;00m\n\u001b[1;32m    221\u001b[0m \u001b[39m    \"\"\"\u001b[39;00m\n\u001b[0;32m--> 222\u001b[0m     \u001b[39mreturn\u001b[39;00m \u001b[39mtuple\u001b[39m(\u001b[39mself\u001b[39;49m(t))\n",
            "File \u001b[0;32m~/.conda/envs/group3_downdate_3/lib/python3.9/site-packages/matplotlib/bezier.py:216\u001b[0m, in \u001b[0;36mBezierSegment.__call__\u001b[0;34m(self, t)\u001b[0m\n\u001b[1;32m    201\u001b[0m \u001b[39m\u001b[39m\u001b[39m\"\"\"\u001b[39;00m\n\u001b[1;32m    202\u001b[0m \u001b[39mEvaluate the Bézier curve at point(s) *t* in [0, 1].\u001b[39;00m\n\u001b[1;32m    203\u001b[0m \n\u001b[0;32m   (...)\u001b[0m\n\u001b[1;32m    212\u001b[0m \u001b[39m    Value of the curve for each point in *t*.\u001b[39;00m\n\u001b[1;32m    213\u001b[0m \u001b[39m\"\"\"\u001b[39;00m\n\u001b[1;32m    214\u001b[0m t \u001b[39m=\u001b[39m np\u001b[39m.\u001b[39masarray(t)\n\u001b[1;32m    215\u001b[0m \u001b[39mreturn\u001b[39;00m (np\u001b[39m.\u001b[39mpower\u001b[39m.\u001b[39mouter(\u001b[39m1\u001b[39m \u001b[39m-\u001b[39m t, \u001b[39mself\u001b[39m\u001b[39m.\u001b[39m_orders[::\u001b[39m-\u001b[39m\u001b[39m1\u001b[39m])\n\u001b[0;32m--> 216\u001b[0m         \u001b[39m*\u001b[39m np\u001b[39m.\u001b[39;49mpower\u001b[39m.\u001b[39;49mouter(t, \u001b[39mself\u001b[39;49m\u001b[39m.\u001b[39;49m_orders)) \u001b[39m@\u001b[39m \u001b[39mself\u001b[39m\u001b[39m.\u001b[39m_px\n",
            "\u001b[0;31mKeyboardInterrupt\u001b[0m: "
          ]
        }
      ],
      "source": [
        "import matplotlib.pyplot as plt\n",
        "from pylab import rcParams\n",
        "rcParams['figure.figsize'] = 10, 10\n",
        "\n",
        "# Visualize result\n",
        "ax, G = explainer.visualize_subgraph(node_idx, graph.edge_index, edge_mask, y=graph.y)\n",
        "plt.show()"
      ]
    },
    {
      "cell_type": "code",
      "execution_count": 27,
      "metadata": {},
      "outputs": [
        {
          "ename": "KeyboardInterrupt",
          "evalue": "",
          "output_type": "error",
          "traceback": [
            "\u001b[0;31m---------------------------------------------------------------------------\u001b[0m",
            "\u001b[0;31mKeyboardInterrupt\u001b[0m                         Traceback (most recent call last)",
            "Cell \u001b[0;32mIn[27], line 6\u001b[0m\n\u001b[1;32m      3\u001b[0m rcParams[\u001b[39m'\u001b[39m\u001b[39mfigure.figsize\u001b[39m\u001b[39m'\u001b[39m] \u001b[39m=\u001b[39m \u001b[39m10\u001b[39m, \u001b[39m10\u001b[39m\n\u001b[1;32m      4\u001b[0m \u001b[39m# Visualize result\u001b[39;00m\n\u001b[0;32m----> 6\u001b[0m ax, G \u001b[39m=\u001b[39m _visualize_graph_via_networkx(edge_index, edge_mask)\n\u001b[1;32m      7\u001b[0m plt\u001b[39m.\u001b[39mshow()\n",
            "File \u001b[0;32m~/Group3/utils.py:213\u001b[0m, in \u001b[0;36m_visualize_graph_via_networkx\u001b[0;34m(edge_index, edge_weight, path)\u001b[0m\n\u001b[1;32m    210\u001b[0m     g\u001b[39m.\u001b[39madd_edge(src, dst, alpha\u001b[39m=\u001b[39mw)\n\u001b[1;32m    212\u001b[0m ax \u001b[39m=\u001b[39m plt\u001b[39m.\u001b[39mgca()\n\u001b[0;32m--> 213\u001b[0m pos \u001b[39m=\u001b[39m nx\u001b[39m.\u001b[39;49mspring_layout(g)\n\u001b[1;32m    214\u001b[0m \u001b[39mfor\u001b[39;00m src, dst, data \u001b[39min\u001b[39;00m g\u001b[39m.\u001b[39medges(data\u001b[39m=\u001b[39m\u001b[39mTrue\u001b[39;00m):\n\u001b[1;32m    215\u001b[0m     ax\u001b[39m.\u001b[39mannotate(\n\u001b[1;32m    216\u001b[0m         \u001b[39m'\u001b[39m\u001b[39m'\u001b[39m,\n\u001b[1;32m    217\u001b[0m         xy\u001b[39m=\u001b[39mpos[src],\n\u001b[0;32m   (...)\u001b[0m\n\u001b[1;32m    225\u001b[0m         ),\n\u001b[1;32m    226\u001b[0m     )\n",
            "File \u001b[0;32m~/.conda/envs/group3_update/lib/python3.10/site-packages/networkx/utils/decorators.py:766\u001b[0m, in \u001b[0;36margmap.__call__.<locals>.func\u001b[0;34m(_argmap__wrapper, *args, **kwargs)\u001b[0m\n\u001b[1;32m    765\u001b[0m \u001b[39mdef\u001b[39;00m \u001b[39mfunc\u001b[39m(\u001b[39m*\u001b[39margs, __wrapper\u001b[39m=\u001b[39m\u001b[39mNone\u001b[39;00m, \u001b[39m*\u001b[39m\u001b[39m*\u001b[39mkwargs):\n\u001b[0;32m--> 766\u001b[0m     \u001b[39mreturn\u001b[39;00m argmap\u001b[39m.\u001b[39;49m_lazy_compile(__wrapper)(\u001b[39m*\u001b[39;49margs, \u001b[39m*\u001b[39;49m\u001b[39m*\u001b[39;49mkwargs)\n",
            "File \u001b[0;32m<class 'networkx.utils.decorators.argmap'> compilation 4:4\u001b[0m, in \u001b[0;36margmap_spring_layout_1\u001b[0;34m(G, k, pos, fixed, iterations, threshold, weight, scale, center, dim, seed)\u001b[0m\n\u001b[1;32m      2\u001b[0m \u001b[39mimport\u001b[39;00m \u001b[39mcollections\u001b[39;00m\n\u001b[1;32m      3\u001b[0m \u001b[39mimport\u001b[39;00m \u001b[39mgzip\u001b[39;00m\n\u001b[0;32m----> 4\u001b[0m \u001b[39mimport\u001b[39;00m \u001b[39minspect\u001b[39;00m\n\u001b[1;32m      5\u001b[0m \u001b[39mimport\u001b[39;00m \u001b[39mitertools\u001b[39;00m\n\u001b[1;32m      6\u001b[0m \u001b[39mimport\u001b[39;00m \u001b[39mre\u001b[39;00m\n",
            "File \u001b[0;32m~/.conda/envs/group3_update/lib/python3.10/site-packages/networkx/drawing/layout.py:482\u001b[0m, in \u001b[0;36mspring_layout\u001b[0;34m(G, k, pos, fixed, iterations, threshold, weight, scale, center, dim, seed)\u001b[0m\n\u001b[1;32m    480\u001b[0m         nnodes, _ \u001b[39m=\u001b[39m A\u001b[39m.\u001b[39mshape\n\u001b[1;32m    481\u001b[0m         k \u001b[39m=\u001b[39m dom_size \u001b[39m/\u001b[39m np\u001b[39m.\u001b[39msqrt(nnodes)\n\u001b[0;32m--> 482\u001b[0m     pos \u001b[39m=\u001b[39m _sparse_fruchterman_reingold(\n\u001b[1;32m    483\u001b[0m         A, k, pos_arr, fixed, iterations, threshold, dim, seed\n\u001b[1;32m    484\u001b[0m     )\n\u001b[1;32m    485\u001b[0m \u001b[39mexcept\u001b[39;00m \u001b[39mValueError\u001b[39;00m:\n\u001b[1;32m    486\u001b[0m     A \u001b[39m=\u001b[39m nx\u001b[39m.\u001b[39mto_numpy_array(G, weight\u001b[39m=\u001b[39mweight)\n",
            "File \u001b[0;32m~/.conda/envs/group3_update/lib/python3.10/site-packages/networkx/utils/decorators.py:766\u001b[0m, in \u001b[0;36margmap.__call__.<locals>.func\u001b[0;34m(_argmap__wrapper, *args, **kwargs)\u001b[0m\n\u001b[1;32m    765\u001b[0m \u001b[39mdef\u001b[39;00m \u001b[39mfunc\u001b[39m(\u001b[39m*\u001b[39margs, __wrapper\u001b[39m=\u001b[39m\u001b[39mNone\u001b[39;00m, \u001b[39m*\u001b[39m\u001b[39m*\u001b[39mkwargs):\n\u001b[0;32m--> 766\u001b[0m     \u001b[39mreturn\u001b[39;00m argmap\u001b[39m.\u001b[39;49m_lazy_compile(__wrapper)(\u001b[39m*\u001b[39;49margs, \u001b[39m*\u001b[39;49m\u001b[39m*\u001b[39;49mkwargs)\n",
            "File \u001b[0;32m<class 'networkx.utils.decorators.argmap'> compilation 8:4\u001b[0m, in \u001b[0;36margmap__sparse_fruchterman_reingold_5\u001b[0;34m(A, k, pos, fixed, iterations, threshold, dim, seed)\u001b[0m\n\u001b[1;32m      2\u001b[0m \u001b[39mimport\u001b[39;00m \u001b[39mcollections\u001b[39;00m\n\u001b[1;32m      3\u001b[0m \u001b[39mimport\u001b[39;00m \u001b[39mgzip\u001b[39;00m\n\u001b[0;32m----> 4\u001b[0m \u001b[39mimport\u001b[39;00m \u001b[39minspect\u001b[39;00m\n\u001b[1;32m      5\u001b[0m \u001b[39mimport\u001b[39;00m \u001b[39mitertools\u001b[39;00m\n\u001b[1;32m      6\u001b[0m \u001b[39mimport\u001b[39;00m \u001b[39mre\u001b[39;00m\n",
            "File \u001b[0;32m~/.conda/envs/group3_update/lib/python3.10/site-packages/networkx/drawing/layout.py:624\u001b[0m, in \u001b[0;36m_sparse_fruchterman_reingold\u001b[0;34m(A, k, pos, fixed, iterations, threshold, dim, seed)\u001b[0m\n\u001b[1;32m    622\u001b[0m     Ai \u001b[39m=\u001b[39m A\u001b[39m.\u001b[39mgetrowview(i)\u001b[39m.\u001b[39mtoarray()  \u001b[39m# TODO: revisit w/ sparse 1D container\u001b[39;00m\n\u001b[1;32m    623\u001b[0m     \u001b[39m# displacement \"force\"\u001b[39;00m\n\u001b[0;32m--> 624\u001b[0m     displacement[:, i] \u001b[39m+\u001b[39m\u001b[39m=\u001b[39m (\n\u001b[1;32m    625\u001b[0m         delta \u001b[39m*\u001b[39;49m (k \u001b[39m*\u001b[39;49m k \u001b[39m/\u001b[39;49m distance\u001b[39m*\u001b[39;49m\u001b[39m*\u001b[39;49m\u001b[39m2\u001b[39;49m \u001b[39m-\u001b[39;49m Ai \u001b[39m*\u001b[39;49m distance \u001b[39m/\u001b[39;49m k)\n\u001b[1;32m    626\u001b[0m     )\u001b[39m.\u001b[39;49msum(axis\u001b[39m=\u001b[39;49m\u001b[39m1\u001b[39;49m)\n\u001b[1;32m    627\u001b[0m \u001b[39m# update positions\u001b[39;00m\n\u001b[1;32m    628\u001b[0m length \u001b[39m=\u001b[39m np\u001b[39m.\u001b[39msqrt((displacement\u001b[39m*\u001b[39m\u001b[39m*\u001b[39m\u001b[39m2\u001b[39m)\u001b[39m.\u001b[39msum(axis\u001b[39m=\u001b[39m\u001b[39m0\u001b[39m))\n",
            "File \u001b[0;32m~/.conda/envs/group3_update/lib/python3.10/site-packages/numpy/core/_methods.py:48\u001b[0m, in \u001b[0;36m_sum\u001b[0;34m(a, axis, dtype, out, keepdims, initial, where)\u001b[0m\n\u001b[1;32m     46\u001b[0m \u001b[39mdef\u001b[39;00m \u001b[39m_sum\u001b[39m(a, axis\u001b[39m=\u001b[39m\u001b[39mNone\u001b[39;00m, dtype\u001b[39m=\u001b[39m\u001b[39mNone\u001b[39;00m, out\u001b[39m=\u001b[39m\u001b[39mNone\u001b[39;00m, keepdims\u001b[39m=\u001b[39m\u001b[39mFalse\u001b[39;00m,\n\u001b[1;32m     47\u001b[0m          initial\u001b[39m=\u001b[39m_NoValue, where\u001b[39m=\u001b[39m\u001b[39mTrue\u001b[39;00m):\n\u001b[0;32m---> 48\u001b[0m     \u001b[39mreturn\u001b[39;00m umr_sum(a, axis, dtype, out, keepdims, initial, where)\n",
            "\u001b[0;31mKeyboardInterrupt\u001b[0m: "
          ]
        },
        {
          "data": {
            "image/png": "[encoded data removed]",
            "text/plain": [
              "<Figure size 1000x1000 with 1 Axes>"
            ]
          },
          "metadata": {},
          "output_type": "display_data"
        }
      ],
      "source": [
        "import matplotlib.pyplot as plt\n",
        "from pylab import rcParams\n",
        "rcParams['figure.figsize'] = 10, 10\n",
        "# Visualize result\n",
        "\n",
        "ax, G = _visualize_graph_via_networkx(edge_index, edge_mask)\n",
        "plt.show()"
      ]
    },
    {
      "cell_type": "code",
      "execution_count": null,
      "metadata": {},
      "outputs": [],
      "source": []
    },
    {
      "cell_type": "code",
      "execution_count": null,
      "metadata": {
        "id": "nWfZxUTo_t8x"
      },
      "outputs": [],
      "source": [
        "graph.train_mask.shape"
      ]
    },
    {
      "cell_type": "code",
      "execution_count": null,
      "metadata": {
        "id": "haIpe84MD-QD"
      },
      "outputs": [],
      "source": [
        "graph.val_mask.shape"
      ]
    },
    {
      "cell_type": "markdown",
      "metadata": {
        "id": "pMQ06m9O5pR7"
      },
      "source": [
        "## Visualizations"
      ]
    },
    {
      "cell_type": "code",
      "execution_count": null,
      "metadata": {
        "id": "we13bqwNY1SA"
      },
      "outputs": [],
      "source": []
    }
  ],
  "metadata": {
    "accelerator": "GPU",
    "colab": {
      "provenance": []
    },
    "gpuClass": "standard",
    "kernelspec": {
      "display_name": "group3_downdate_3",
      "language": "python",
      "name": "python3"
    },
    "language_info": {
      "codemirror_mode": {
        "name": "ipython",
        "version": 3
      },
      "file_extension": ".py",
      "mimetype": "text/x-python",
      "name": "python",
      "nbconvert_exporter": "python",
      "pygments_lexer": "ipython3",
      "version": "3.10.9"
    },
    "vscode": {
      "interpreter": {
        "hash": "1fcbc017553b5a97c96f8bfcf29622c33d0eb9172fa1589e9efa3233720be7e3"
      }
    }
  },
  "nbformat": 4,
  "nbformat_minor": 0
}
